{
  "nbformat": 4,
  "nbformat_minor": 0,
  "metadata": {
    "colab": {
      "name": "Cython",
      "provenance": [],
      "collapsed_sections": [],
      "authorship_tag": "ABX9TyPNQYacY4rMSdn/s4UpCAjW"
    },
    "kernelspec": {
      "name": "python3",
      "display_name": "Python 3"
    },
    "language_info": {
      "name": "python"
    }
  },
  "cells": [
    {
      "cell_type": "code",
      "metadata": {
        "id": "scmx4Yu4GTw-"
      },
      "source": [
        "# code for loading the format for the notebook\n",
        "import os\n",
        "\n",
        "# path : store the current path to convert back to it later\n",
        "path = os.getcwd()\n",
        "os.chdir(os.path.join('..', 'notebook_format'))\n",
        "\n",
        "from formats import load_style\n",
        "load_style(plot_style = False)"
      ],
      "execution_count": null,
      "outputs": []
    },
    {
      "cell_type": "code",
      "metadata": {
        "id": "Fp40hNSiGYI2"
      },
      "source": [
        "%%cython\n",
        "def hello_snippet():\n",
        "    \"\"\"\n",
        "    after loading the cython magic, we can\n",
        "    run the cython code (this code isn't \n",
        "    different from normal python code)\n",
        "    \"\"\"\n",
        "    print('hello cython')"
      ],
      "execution_count": null,
      "outputs": []
    },
    {
      "cell_type": "code",
      "metadata": {
        "id": "UahLuzkOGBiE",
        "outputId": "48def5a5-9deb-40c8-a073-69c948d0830d"
      },
      "source": [
        "hello_snippet()"
      ],
      "execution_count": null,
      "outputs": [
        {
          "name": "stdout",
          "output_type": "stream",
          "text": [
            "hello cython\n"
          ]
        }
      ]
    }
  ]
}