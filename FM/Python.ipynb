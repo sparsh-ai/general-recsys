{
  "nbformat": 4,
  "nbformat_minor": 0,
  "metadata": {
    "colab": {
      "name": "Cython",
      "provenance": [],
      "collapsed_sections": [],
      "authorship_tag": "ABX9TyMRGOqgECKrUKw20jkrQe1V"
    },
    "kernelspec": {
      "name": "python3",
      "display_name": "Python 3"
    },
    "language_info": {
      "name": "python"
    }
  },
  "cells": [
    {
      "cell_type": "code",
      "metadata": {
        "colab": {
          "base_uri": "https://localhost:8080/"
        },
        "id": "3Mwz08l4Hxek",
        "outputId": "70e4aab3-cd86-4e27-ec20-99bca17421ce"
      },
      "source": [
        "!git clone --branch T021355 https://github.com/sparsh-ai/general-recsys.git\n",
        "%cd general-recsys"
      ],
      "execution_count": 1,
      "outputs": [
        {
          "output_type": "stream",
          "name": "stdout",
          "text": [
            "Cloning into 'general-recsys'...\n",
            "remote: Enumerating objects: 406, done.\u001b[K\n",
            "remote: Counting objects: 100% (406/406), done.\u001b[K\n",
            "remote: Compressing objects: 100% (294/294), done.\u001b[K\n",
            "remote: Total 406 (delta 99), reused 396 (delta 97), pack-reused 0\u001b[K\n",
            "Receiving objects: 100% (406/406), 122.89 MiB | 22.90 MiB/s, done.\n",
            "Resolving deltas: 100% (99/99), done.\n",
            "/content/general-recsys\n"
          ]
        }
      ]
    },
    {
      "cell_type": "code",
      "metadata": {
        "id": "O8q4tu6FIV1M"
      },
      "source": [
        "import sys\n",
        "sys.path.insert(0,'.')"
      ],
      "execution_count": 4,
      "outputs": []
    },
    {
      "cell_type": "code",
      "metadata": {
        "id": "-ta4VXC2IhNq"
      },
      "source": [
        "import json\n",
        "import warnings\n",
        "import matplotlib\n",
        "from IPython.core.display import HTML\n",
        "\n",
        "\n",
        "def load_style(css_style = 'custom1.css', plot_style = True):\n",
        "    \"\"\"\n",
        "    custom1.css adapted from\n",
        "    https://github.com/rlabbe/ThinkBayes/blob/master/code/custom.css\n",
        "\n",
        "    custom2.css adapted from\n",
        "    https://github.com/neilpanchal/iPython-Notebook-Theme\n",
        "    \"\"\"\n",
        "\n",
        "    # recent matplotlibs are raising deprecation warnings that\n",
        "    # we don't worry about (it's the axes_prop_cycle).\n",
        "    warnings.filterwarnings('ignore')\n",
        "\n",
        "    # update the default matplotlib's formating\n",
        "    if plot_style:\n",
        "        with open('plot.json') as f:\n",
        "            s = json.load(f)\n",
        "\n",
        "        matplotlib.rcParams.update(s)\n",
        "\n",
        "    # load the styles for the notebooks\n",
        "    with open(css_style) as f:\n",
        "        styles = f.read()\n",
        "\n",
        "    return HTML(styles)"
      ],
      "execution_count": 6,
      "outputs": []
    },
    {
      "cell_type": "code",
      "metadata": {
        "colab": {
          "base_uri": "https://localhost:8080/"
        },
        "id": "FDFExX2jIqQ7",
        "outputId": "3d6957a2-cf1e-4916-8bff-a20c5d5790fd"
      },
      "source": [
        "%cd notebook_format"
      ],
      "execution_count": 9,
      "outputs": [
        {
          "output_type": "stream",
          "name": "stdout",
          "text": [
            "/content/general-recsys/notebook_format\n"
          ]
        }
      ]
    },
    {
      "cell_type": "code",
      "metadata": {
        "id": "scmx4Yu4GTw-",
        "colab": {
          "base_uri": "https://localhost:8080/",
          "height": 17
        },
        "outputId": "e73a08c3-2cd4-4a47-d39a-60abfcb5b9fd"
      },
      "source": [
        "# code for loading the format for the notebook\n",
        "import os\n",
        "\n",
        "# path : store the current path to convert back to it later\n",
        "# path = os.getcwd()\n",
        "# os.chdir(('notebook_format')\n",
        "\n",
        "load_style(plot_style = False)"
      ],
      "execution_count": 10,
      "outputs": [
        {
          "output_type": "execute_result",
          "data": {
            "text/html": [
              "<style>\n",
              "@import url('http://fonts.googleapis.com/css?family=Source+Code+Pro');\n",
              "@import url('http://fonts.googleapis.com/css?family=Vollkorn');\n",
              "@import url('http://fonts.googleapis.com/css?family=Arimo');\n",
              "@import url('http://fonts.googleapis.com/css?family=Fira_sans');\n",
              "    \n",
              "    div.cell {\n",
              "        width: 1000px;\n",
              "        margin-left: 0% !important;\n",
              "        margin-right: auto;\n",
              "    }\n",
              "    div.text_cell code {\n",
              "        background: transparent;\n",
              "        color: #000000;\n",
              "        font-weight: 600;\n",
              "        font-size: 12pt;\n",
              "        font-style: bold;\n",
              "        font-family:  'Source Code Pro', Consolas, monocco, monospace;\n",
              "    }\n",
              "    h1 {\n",
              "        font-family: 'Open sans',verdana,arial,sans-serif;\n",
              "\t}\n",
              "\t\n",
              "    div.input_area {\n",
              "        background: #F6F6F9;\n",
              "        border: 1px solid #586e75;\n",
              "    }\n",
              "\n",
              "    .text_cell_render h1 {\n",
              "        font-weight: 200;\n",
              "        font-size: 30pt;\n",
              "        line-height: 100%;\n",
              "        color:#c76c0c;\n",
              "        margin-bottom: 0.5em;\n",
              "        margin-top: 1em;\n",
              "        display: block;\n",
              "        white-space: wrap;\n",
              "        text-align: left;\n",
              "    } \n",
              "    h2 {\n",
              "        font-family: 'Open sans',verdana,arial,sans-serif;\n",
              "        text-align: left;\n",
              "    }\n",
              "    .text_cell_render h2 {\n",
              "        font-weight: 200;\n",
              "        font-size: 16pt;\n",
              "        font-style: italic;\n",
              "        line-height: 100%;\n",
              "        color:#c76c0c;\n",
              "        margin-bottom: 0.5em;\n",
              "        margin-top: 1.5em;\n",
              "        display: block;\n",
              "        white-space: wrap;\n",
              "        text-align: left;\n",
              "    } \n",
              "    h3 {\n",
              "        font-family: 'Open sans',verdana,arial,sans-serif;\n",
              "    }\n",
              "    .text_cell_render h3 {\n",
              "        font-weight: 200;\n",
              "        font-size: 14pt;\n",
              "        line-height: 100%;\n",
              "        color:#d77c0c;\n",
              "        margin-bottom: 0.5em;\n",
              "        margin-top: 2em;\n",
              "        display: block;\n",
              "        white-space: wrap;\n",
              "        text-align: left;\n",
              "    }\n",
              "    h4 {\n",
              "        font-family: 'Open sans',verdana,arial,sans-serif;\n",
              "    }\n",
              "    .text_cell_render h4 {\n",
              "        font-weight: 100;\n",
              "        font-size: 14pt;\n",
              "        color:#d77c0c;\n",
              "        margin-bottom: 0.5em;\n",
              "        margin-top: 0.5em;\n",
              "        display: block;\n",
              "        white-space: nowrap;\n",
              "    }\n",
              "    h5 {\n",
              "        font-family: 'Open sans',verdana,arial,sans-serif;\n",
              "    }\n",
              "    .text_cell_render h5 {\n",
              "        font-weight: 200;\n",
              "        font-style: normal;\n",
              "        color: #1d3b84;\n",
              "        font-size: 16pt;\n",
              "        margin-bottom: 0em;\n",
              "        margin-top: 0.5em;\n",
              "        display: block;\n",
              "        white-space: nowrap;\n",
              "    }\n",
              "    div.text_cell_render{\n",
              "        font-family: 'Fira sans', verdana,arial,sans-serif;\n",
              "        line-height: 125%;\n",
              "        font-size: 115%;\n",
              "        text-align:justify;\n",
              "        text-justify:inter-word;\n",
              "    }\n",
              "    div.output_wrapper{\n",
              "        margin-top:0.2em;\n",
              "        margin-bottom:0.2em;\n",
              "    }\n",
              "\n",
              "    code{\n",
              "      font-size: 70%;\n",
              "    }\n",
              "    .rendered_html code{\n",
              "    background-color: transparent;\n",
              "    }\n",
              "    ul{\n",
              "        margin: 2em;\n",
              "    }\n",
              "    ul li{\n",
              "        padding-left: 0.5em; \n",
              "        margin-bottom: 0.5em; \n",
              "        margin-top: 0.5em; \n",
              "    }\n",
              "    ul li li{\n",
              "        padding-left: 0.2em; \n",
              "        margin-bottom: 0.2em; \n",
              "        margin-top: 0.2em; \n",
              "    }\n",
              "    ol{\n",
              "        margin: 2em;\n",
              "    }\n",
              "    ol li{\n",
              "        padding-left: 0.5em; \n",
              "        margin-bottom: 0.5em; \n",
              "        margin-top: 0.5em; \n",
              "    }\n",
              "    ul li{\n",
              "        padding-left: 0.5em; \n",
              "        margin-bottom: 0.5em; \n",
              "        margin-top: 0.2em; \n",
              "    }\n",
              "    a:link{\n",
              "       font-weight: bold;\n",
              "       color:#447adb;\n",
              "    }\n",
              "    a:visited{\n",
              "       font-weight: bold;\n",
              "       color: #1d3b84;\n",
              "    }\n",
              "    a:hover{\n",
              "       font-weight: bold;\n",
              "       color: #1d3b84;\n",
              "    }\n",
              "    a:focus{\n",
              "       font-weight: bold;\n",
              "       color:#447adb;\n",
              "    }\n",
              "    a:active{\n",
              "       font-weight: bold;\n",
              "       color:#447adb;\n",
              "    }\n",
              "    .rendered_html :link {\n",
              "       text-decoration: underline; \n",
              "    }\n",
              "    .rendered_html :hover {\n",
              "       text-decoration: none; \n",
              "    }\n",
              "    .rendered_html :visited {\n",
              "      text-decoration: none;\n",
              "    }\n",
              "    .rendered_html :focus {\n",
              "      text-decoration: none;\n",
              "    }\n",
              "    .rendered_html :active {\n",
              "      text-decoration: none;\n",
              "    }\n",
              "    .warning{\n",
              "        color: rgb( 240, 20, 20 )\n",
              "    } \n",
              "    hr {\n",
              "      color: #f3f3f3;\n",
              "      background-color: #f3f3f3;\n",
              "      height: 1px;\n",
              "    }\n",
              "    blockquote{\n",
              "      display:block;\n",
              "      background: #fcfcfc;\n",
              "      border-left: 5px solid #c76c0c;\n",
              "      font-family: 'Open sans',verdana,arial,sans-serif;\n",
              "      width:680px;\n",
              "      padding: 10px 10px 10px 10px;\n",
              "      text-align:justify;\n",
              "      text-justify:inter-word;\n",
              "      }\n",
              "      blockquote p {\n",
              "        margin-bottom: 0;\n",
              "        line-height: 125%;\n",
              "        font-size: 100%;\n",
              "      }\n",
              "</style>\n",
              "<script>\n",
              "    MathJax.Hub.Config({\n",
              "                        TeX: {\n",
              "                           extensions: [\"AMSmath.js\"]\n",
              "                           },\n",
              "                tex2jax: {\n",
              "                    inlineMath: [ ['$','$'], [\"\\\\(\",\"\\\\)\"] ],\n",
              "                    displayMath: [ ['$$','$$'], [\"\\\\[\",\"\\\\]\"] ]\n",
              "                },\n",
              "                displayAlign: 'center', // Change this to 'center' to center equations.\n",
              "                \"HTML-CSS\": {\n",
              "                    scale:100,\n",
              "                        availableFonts: [],\n",
              "                        preferredFont:null,\n",
              "                        webFont: \"TeX\",\n",
              "                    styles: {'.MathJax_Display': {\"margin\": 4}}\n",
              "                }\n",
              "        });\n",
              "</script>\n"
            ],
            "text/plain": [
              "<IPython.core.display.HTML object>"
            ]
          },
          "metadata": {},
          "execution_count": 10
        }
      ]
    },
    {
      "cell_type": "code",
      "metadata": {
        "id": "Fp40hNSiGYI2"
      },
      "source": [
        "def hello_snippet():\n",
        "    \"\"\"\n",
        "    after loading the cython magic, we can\n",
        "    run the cython code (this code isn't \n",
        "    different from normal python code)\n",
        "    \"\"\"\n",
        "    print('hello cython')"
      ],
      "execution_count": 11,
      "outputs": []
    },
    {
      "cell_type": "code",
      "metadata": {
        "id": "UahLuzkOGBiE",
        "colab": {
          "base_uri": "https://localhost:8080/"
        },
        "outputId": "22e74c01-5799-446a-f129-21f0673d302f"
      },
      "source": [
        "hello_snippet()"
      ],
      "execution_count": 12,
      "outputs": [
        {
          "output_type": "stream",
          "name": "stdout",
          "text": [
            "hello cython\n"
          ]
        }
      ]
    }
  ]
}