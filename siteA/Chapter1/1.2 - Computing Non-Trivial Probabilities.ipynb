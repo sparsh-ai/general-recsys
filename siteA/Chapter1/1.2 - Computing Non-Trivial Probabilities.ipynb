{
 "cells": [
  {
   "cell_type": "markdown",
   "metadata": {},
   "source": [
    "# 1.2 - Computing Non-Trivial Probabilities\n",
    "Covers pages 9-14"
   ]
  },
  {
   "cell_type": "code",
   "execution_count": 1,
   "metadata": {},
   "outputs": [],
   "source": [
    "# From 1.1\n",
    "def get_event(event_condition, sample_space):\n",
    "    return set([outcome for outcome in sample_space if event_condition(outcome)])\n",
    "\n",
    "def compute_event_probability(event_condition, generic_sample_space):\n",
    "    event = get_event(event_condition, generic_sample_space)\n",
    "    \n",
    "    if type(generic_sample_space) == type(set()):\n",
    "        return len(event) / len(generic_sample_space)\n",
    "    \n",
    "    event_size = sum(generic_sample_space[outcome] for outcome in event)\n",
    "    return event_size / sum(generic_sample_space.values())"
   ]
  },
  {
   "cell_type": "code",
   "execution_count": 2,
   "metadata": {},
   "outputs": [
    {
     "data": {
      "text/plain": "{('Boy', 'Boy', 'Boy', 'Boy'),\n ('Boy', 'Boy', 'Boy', 'Girl'),\n ('Boy', 'Boy', 'Girl', 'Boy'),\n ('Boy', 'Boy', 'Girl', 'Girl'),\n ('Boy', 'Girl', 'Boy', 'Boy'),\n ('Boy', 'Girl', 'Boy', 'Girl'),\n ('Boy', 'Girl', 'Girl', 'Boy'),\n ('Boy', 'Girl', 'Girl', 'Girl'),\n ('Girl', 'Boy', 'Boy', 'Boy'),\n ('Girl', 'Boy', 'Boy', 'Girl'),\n ('Girl', 'Boy', 'Girl', 'Boy'),\n ('Girl', 'Boy', 'Girl', 'Girl'),\n ('Girl', 'Girl', 'Boy', 'Boy'),\n ('Girl', 'Girl', 'Boy', 'Girl'),\n ('Girl', 'Girl', 'Girl', 'Boy'),\n ('Girl', 'Girl', 'Girl', 'Girl')}"
     },
     "execution_count": 2,
     "metadata": {},
     "output_type": "execute_result"
    }
   ],
   "source": [
    "possible_children = ['Boy', 'Girl']\n",
    "sample_space = set()\n",
    "for child1 in possible_children:\n",
    "    for child2 in possible_children:\n",
    "        for child3 in possible_children:\n",
    "            for child4 in possible_children:\n",
    "                outcome = (child1, child2, child3, child4)\n",
    "                sample_space.add(outcome)\n",
    "                \n",
    "# Does the same thing\n",
    "from itertools import product\n",
    "all_combinations = product(*(4 * [possible_children]))\n",
    "assert set(all_combinations) == sample_space\n",
    "\n",
    "# Also does the same thing\n",
    "sample_space_efficient = set(product(possible_children, repeat=4))\n",
    "assert sample_space == sample_space_efficient\n",
    "\n",
    "sample_space\n",
    "# list(all_combinations)\n",
    "#list(sample_space_efficient)"
   ]
  },
  {
   "cell_type": "code",
   "execution_count": 3,
   "metadata": {},
   "outputs": [
    {
     "name": "stdout",
     "output_type": "stream",
     "text": [
      "Probabiity of 2 boys is 0.375\n"
     ]
    }
   ],
   "source": [
    "def has_two_boys(outcome):\n",
    "    return len([child for child in outcome if child == 'Boy']) == 2\n",
    "\n",
    "prob = compute_event_probability(has_two_boys, sample_space)\n",
    "print(f\"Probabiity of 2 boys is {prob}\")\n"
   ]
  },
  {
   "cell_type": "markdown",
   "metadata": {},
   "source": [
    "## 1.2.2 Problem 2: Analyzing Multiple Dice Rolls"
   ]
  },
  {
   "cell_type": "code",
   "execution_count": 4,
   "metadata": {},
   "outputs": [
    {
     "data": {
      "text/plain": "[1, 2, 3, 4, 5, 6]"
     },
     "execution_count": 4,
     "metadata": {},
     "output_type": "execute_result"
    }
   ],
   "source": [
    "possible_rolls = list(range(1,7))\n",
    "possible_rolls"
   ]
  },
  {
   "cell_type": "code",
   "execution_count": 5,
   "metadata": {},
   "outputs": [
    {
     "name": "stdout",
     "output_type": "stream",
     "text": [
      "length of sample space is: 46656, and first 5 elements are: [(3, 1, 4, 6, 4, 3), (6, 1, 3, 6, 3, 3), (2, 4, 2, 6, 4, 3), (2, 6, 4, 6, 3, 6), (3, 1, 1, 2, 2, 3)]\n"
     ]
    }
   ],
   "source": [
    "sample_space = set(product(possible_rolls, repeat = 6))\n",
    "print(f\"length of sample space is: {len(sample_space)}, and first 5 elements are: {list(sample_space)[0:5]}\")"
   ]
  },
  {
   "cell_type": "code",
   "execution_count": 6,
   "metadata": {},
   "outputs": [
    {
     "name": "stdout",
     "output_type": "stream",
     "text": [
      "Probability of dice summing to 21 is 0.09284979423868313\n"
     ]
    }
   ],
   "source": [
    "def has_sum_of_21(outcome):\n",
    "    return sum(outcome) == 21\n",
    "\n",
    "prob = compute_event_probability(has_sum_of_21, sample_space)\n",
    "print(f\"Probability of dice summing to 21 is {prob}\")"
   ]
  },
  {
   "cell_type": "code",
   "execution_count": 7,
   "metadata": {},
   "outputs": [],
   "source": [
    "# Same general  idea as above, using lambdas, so we don't need to keep defining functions all over\n",
    "prob_lambda = compute_event_probability(lambda x: sum(x) == 21, sample_space)\n",
    "assert prob == prob_lambda"
   ]
  },
  {
   "cell_type": "markdown",
   "metadata": {},
   "source": [
    "## 1.2.3 Problem 3: Computing Dice-Roll Probabilities using Weighted Sample Spaces"
   ]
  },
  {
   "cell_type": "code",
   "execution_count": 8,
   "metadata": {},
   "outputs": [
    {
     "name": "stdout",
     "output_type": "stream",
     "text": [
      "There are 4332 ways for 6  rolled dice to sum to 21\n"
     ]
    }
   ],
   "source": [
    "from collections import defaultdict\n",
    "\n",
    "weighted_sample_space = defaultdict(int)\n",
    "for outcome in sample_space:\n",
    "    total = sum(outcome)\n",
    "    weighted_sample_space[total] += 1\n",
    "    \n",
    "# weighted_sample_space\n",
    "# sorted(weighted_sample_space.items())\n",
    "\n",
    "assert weighted_sample_space[6] == 1\n",
    "assert weighted_sample_space[36] == 1\n",
    "\n",
    "num_combinations = weighted_sample_space[21]\n",
    "print(f\"There are {num_combinations} ways for 6  rolled dice to sum to 21\")"
   ]
  },
  {
   "cell_type": "code",
   "execution_count": 9,
   "metadata": {},
   "outputs": [],
   "source": [
    "event = get_event(lambda x: sum(x) == 21, sample_space)\n",
    "assert weighted_sample_space[21] == len(event)\n",
    "assert sum(weighted_sample_space.values()) == len(sample_space)"
   ]
  },
  {
   "cell_type": "code",
   "execution_count": 10,
   "metadata": {},
   "outputs": [
    {
     "name": "stdout",
     "output_type": "stream",
     "text": [
      "Probability of dice summing to 21 is 0.09284979423868313 | 0.09284979423868313\n"
     ]
    }
   ],
   "source": [
    "# Computing weighted event probability of dice rolls\n",
    "weighted_prob = compute_event_probability(lambda x: x == 21, weighted_sample_space)\n",
    "prob = compute_event_probability(has_sum_of_21, sample_space)\n",
    "assert prob == weighted_prob\n",
    "print(f\"Probability of dice summing to 21 is {prob} | {weighted_prob}\")"
   ]
  },
  {
   "cell_type": "code",
   "execution_count": 12,
   "metadata": {
    "pycharm": {
     "name": "#%%\n"
    }
   },
   "outputs": [
    {
     "name": "stdout",
     "output_type": "stream",
     "text": [
      "Number of Elements in Unweighted Sample Space: 46656, type of: <class 'set'>\n",
      "Number of Elements in Weighted Sample Space: 31, type of: <class 'collections.defaultdict'>\n"
     ]
    }
   ],
   "source": [
    "#Comparing event space size (1.27)\n",
    "print(f'Number of Elements in Unweighted Sample Space: {len(sample_space)}, type of: {type(sample_space)}')\n",
    "print(f'Number of Elements in Weighted Sample Space: {len(weighted_sample_space)}, type of: {type(weighted_sample_space)}')\n"
   ]
  },
  {
   "cell_type": "code",
   "execution_count": null,
   "outputs": [],
   "source": [],
   "metadata": {
    "collapsed": false,
    "pycharm": {
     "name": "#%%\n"
    }
   }
  }
 ],
 "metadata": {
  "kernelspec": {
   "display_name": "Python 3",
   "language": "python",
   "name": "python3"
  },
  "language_info": {
   "codemirror_mode": {
    "name": "ipython",
    "version": 3
   },
   "file_extension": ".py",
   "mimetype": "text/x-python",
   "name": "python",
   "nbconvert_exporter": "python",
   "pygments_lexer": "ipython3",
   "version": "3.8.5"
  }
 },
 "nbformat": 4,
 "nbformat_minor": 4
}