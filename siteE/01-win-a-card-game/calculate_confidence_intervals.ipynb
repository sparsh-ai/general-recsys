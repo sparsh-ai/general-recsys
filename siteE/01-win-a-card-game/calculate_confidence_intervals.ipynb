{
 "cells": [
  {
   "cell_type": "markdown",
   "id": "9c1fef64",
   "metadata": {},
   "source": [
    "# Instructions\n",
    "- Create a list of frequency wins, which contains a 10,000 frequency of win for threshold = 15.\n",
    "    - Using the duel_play function from the previous milestone, simulate the play for threshold = 15 against an opponent, whose strategy is chosen randomly among thresholds of 13, 14, 16, and 17.\n",
    "    - Simulate this play 1,000 times, and at the end, calculate the win rate for threshold = 15 for non-tie cases. For example, in a game with 300 wins and 100 tie cases, the win rate would be 300/(1,000-100) = 0.33.\n",
    "    - Repeat the calculation in the previous step 10,000 times and append the results to the list called \"frequency_wins\".\n",
    "- Visualize the histogram of the winners list.\n",
    "    - Check the distribution of the win probability histogram.\n",
    "- Calculate the 95% confidence interval for the frequency_wins list."
   ]
  },
  {
   "cell_type": "code",
   "execution_count": 1,
   "id": "0054585c",
   "metadata": {},
   "outputs": [
    {
     "name": "stdout",
     "output_type": "stream",
     "text": [
      "The mean win rate is 0.51 and the 95% confidence interval is [0.48, 0.55]\n"
     ]
    },
    {
     "data": {
      "image/png": "[encoded data removed]",
      "text/plain": [
       "<Figure size 432x288 with 1 Axes>"
      ]
     },
     "metadata": {
      "needs_background": "light"
     },
     "output_type": "display_data"
    }
   ],
   "source": [
    "# %load calculate_confidence_intervals.py\n",
    "import random\n",
    "import statistics\n",
    "import seaborn as sb\n",
    "from scipy import stats\n",
    "from itertools import product, chain\n",
    "import matplotlib.pyplot as plt\n",
    "\n",
    "random.seed(0)\n",
    "\n",
    "THRESHOLD = 15\n",
    "\n",
    "\n",
    "def create_deck():\n",
    "    \"\"\"\n",
    "    Create a list that represents the card deck\n",
    "\n",
    "    Cards are represented by a number according to the following rules:\n",
    "    - Cards from 2 to 10 are represented by their number\n",
    "    - Jacks, Queens, and Kings (court cards) are represented by the number 10\n",
    "    - Aces are represented by 11\n",
    "\n",
    "    Card suits (clubs, diamonds, hearts, and spades) don't matter in the game, so they're not recorded.\n",
    "    \"\"\"\n",
    "    numeric_cards = range(2,11)\n",
    "    value_court_cards = 10\n",
    "    n_court_cards = 3\n",
    "    value_ace = 11\n",
    "\n",
    "    cards_in_a_suit = list(numeric_cards) + [value_court_cards]*n_court_cards + [value_ace]\n",
    "    deck = 4 * cards_in_a_suit\n",
    "\n",
    "    return deck\n",
    "\n",
    "\n",
    "def alter_ace(hand):\n",
    "    \"\"\"\n",
    "    Changes an ace from 11 to 1\n",
    "    \"\"\"\n",
    "    hand.remove(11)\n",
    "    hand.append(1)\n",
    "    return hand\n",
    "\n",
    "\n",
    "def simulate_one_game(deck, threshold):\n",
    "    hand = [deck.pop(), deck.pop()]\n",
    "\n",
    "    # there are exactly 2 aces\n",
    "    # so use use of them as 1 instead of 11\n",
    "    if sum(hand) == 22:\n",
    "        hand = alter_ace(hand)\n",
    "\n",
    "    while sum(hand) < threshold:\n",
    "        hand.append(deck.pop())\n",
    "        if sum(hand) > 21 and 11 in hand:\n",
    "            hand = alter_ace(hand)\n",
    "    \n",
    "    return hand\n",
    "\n",
    "\n",
    "def duel_play(threshold_1, threshold_2):\n",
    "    \"\"\"\n",
    "    Simulate 2 strategies playing against each other\n",
    "    \n",
    "    Each strategy can have a different threshold for stopping.\n",
    "    Cards are dealt first to one player until it finishes its game and then to the second.\n",
    "    \"\"\"\n",
    "    deck = create_deck()\n",
    "    random.shuffle(deck)\n",
    "    \n",
    "    sum_1 = sum(simulate_one_game(deck, threshold_1))\n",
    "    sum_2 = sum(simulate_one_game(deck, threshold_2))\n",
    "\n",
    "    winner = None\n",
    "\n",
    "    if (sum_1 > 21 and sum_2 > 21) or sum_1 == sum_2:\n",
    "        winner = 0\n",
    "    elif sum_2 > 21:\n",
    "        winner = threshold_1\n",
    "    elif sum_1 > 21:\n",
    "        winner = threshold_2\n",
    "    # here I already know that both are smaller than 21 so I can check one against the other\n",
    "    elif sum_1 > sum_2:\n",
    "        winner = threshold_1\n",
    "    elif sum_2 > sum_1:\n",
    "        # or could be simply else I believe, but I'm being explicit\n",
    "        winner = threshold_2\n",
    "    return winner\n",
    "\n",
    "\n",
    "def play_against_random_strategy(threshold, other_strategies=None):\n",
    "    if other_strategies is None:\n",
    "        other_strategies = [13, 14, 16, 17]\n",
    "    opponent_threshold = random.choice(other_strategies)\n",
    "    winner = duel_play(threshold, opponent_threshold)\n",
    "    return winner\n",
    "\n",
    "\n",
    "def simulate_n_individual_random_rounds(n_rounds):\n",
    "    winners = [play_against_random_strategy(THRESHOLD) for _ in range(n_rounds)]\n",
    "    winners_non_zero = [x for x in winners if x != 0]\n",
    "    n_wins = len([x for x in winners if x == THRESHOLD])\n",
    "    win_rate = n_wins / len(winners_non_zero)\n",
    "    return win_rate\n",
    "\n",
    "\n",
    "def repeat_simulation_m_times(n, m):\n",
    "    \"\"\"\n",
    "    Simulate n games, repeating it m times for a total of n*m times with m output values\n",
    "    \"\"\"\n",
    "    win_rates = [simulate_n_individual_random_rounds(n) for _ in range(m)]\n",
    "    sb.histplot(win_rates, stat='probability')\n",
    "    plt.xlabel('Win rate')\n",
    "    plt.title('Histogram of win rate')\n",
    "    return win_rates\n",
    "\n",
    "\n",
    "def calculate_confidence_interval(win_rates):\n",
    "    \"\"\"\n",
    "    Calculate confidence interval assuming the distribution is normal\n",
    "    \"\"\"\n",
    "    alpha = .95\n",
    "    mean_wins = statistics.mean(win_rates)\n",
    "    confidence_interval = stats.norm.interval(alpha, mean_wins, statistics.stdev(win_rates))\n",
    "\n",
    "    print(f'The mean win rate is {mean_wins:.2f} and the '\\\n",
    "          f'{alpha:.0%} confidence interval is [{confidence_interval[0]:.2f}, {confidence_interval[1]:.2f}]')\n",
    "\n",
    "\n",
    "if __name__ == '__main__':\n",
    "    win_rates = repeat_simulation_m_times(1000, 10000)\n",
    "    calculate_confidence_interval(win_rates)"
   ]
  },
  {
   "cell_type": "code",
   "execution_count": null,
   "id": "8713844a",
   "metadata": {},
   "outputs": [],
   "source": []
  },
  {
   "cell_type": "code",
   "execution_count": null,
   "id": "36de3d98",
   "metadata": {},
   "outputs": [],
   "source": []
  },
  {
   "cell_type": "code",
   "execution_count": null,
   "id": "b0ec4692",
   "metadata": {},
   "outputs": [],
   "source": []
  },
  {
   "cell_type": "code",
   "execution_count": null,
   "id": "fc785268",
   "metadata": {},
   "outputs": [],
   "source": []
  },
  {
   "cell_type": "code",
   "execution_count": null,
   "id": "473ba393",
   "metadata": {},
   "outputs": [],
   "source": []
  },
  {
   "cell_type": "code",
   "execution_count": null,
   "id": "3a437200",
   "metadata": {},
   "outputs": [],
   "source": []
  },
  {
   "cell_type": "code",
   "execution_count": null,
   "id": "3baff2bf",
   "metadata": {},
   "outputs": [],
   "source": []
  },
  {
   "cell_type": "code",
   "execution_count": null,
   "id": "ec28f270",
   "metadata": {},
   "outputs": [],
   "source": []
  },
  {
   "cell_type": "code",
   "execution_count": null,
   "id": "8d08bde7",
   "metadata": {},
   "outputs": [],
   "source": []
  },
  {
   "cell_type": "code",
   "execution_count": null,
   "id": "13e25582",
   "metadata": {},
   "outputs": [],
   "source": []
  },
  {
   "cell_type": "code",
   "execution_count": null,
   "id": "8049c0c4",
   "metadata": {},
   "outputs": [],
   "source": []
  },
  {
   "cell_type": "code",
   "execution_count": null,
   "id": "991e699f",
   "metadata": {},
   "outputs": [],
   "source": []
  },
  {
   "cell_type": "code",
   "execution_count": null,
   "id": "bddec258",
   "metadata": {},
   "outputs": [],
   "source": []
  },
  {
   "cell_type": "code",
   "execution_count": null,
   "id": "851936bf",
   "metadata": {},
   "outputs": [],
   "source": []
  },
  {
   "cell_type": "code",
   "execution_count": null,
   "id": "c99375ee",
   "metadata": {},
   "outputs": [],
   "source": []
  },
  {
   "cell_type": "code",
   "execution_count": null,
   "id": "4c94fd73",
   "metadata": {},
   "outputs": [],
   "source": []
  },
  {
   "cell_type": "code",
   "execution_count": null,
   "id": "86cd4906",
   "metadata": {},
   "outputs": [],
   "source": []
  }
 ],
 "metadata": {
  "kernelspec": {
   "display_name": "Python 3",
   "language": "python",
   "name": "python3"
  },
  "language_info": {
   "codemirror_mode": {
    "name": "ipython",
    "version": 3
   },
   "file_extension": ".py",
   "mimetype": "text/x-python",
   "name": "python",
   "nbconvert_exporter": "python",
   "pygments_lexer": "ipython3",
   "version": "3.8.8"
  }
 },
 "nbformat": 4,
 "nbformat_minor": 5
}
