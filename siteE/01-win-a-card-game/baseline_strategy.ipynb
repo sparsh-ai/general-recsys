{
 "cells": [
  {
   "cell_type": "markdown",
   "id": "054b82e5",
   "metadata": {},
   "source": [
    "# Instructions\n",
    "- Assign 0 to the NumPy random seed to make the results reproducible with the same random factor.\n",
    "\n",
    "- Create an empty list called “turn” and fill it up to start a for loop with 100,000 iterations, and then add each result to the list. In every loop, do the following:\n",
    "    - Shuffle the deck randomly.\n",
    "    - Pick the first 2 cards in the list as an initial hand to simulate taking the top 2 off the deck.\n",
    "    - If the sum of the initial hand equals 22, alter the first 11 with 1. We utilize 1 of our 2 aces as 1 in an effort to stay lower than 21. In such a situation of starting with 2 aces, “splitting” the hand is also an option; however, we will disregard this case in our simulation.\n",
    "    - If the sum of the hand is lower than 16, continue picking cards from the deck until the sum reaches or exceeds 16.\n",
    "    - If the sum of hand exceeds 21, check if there is an 11 in the hand and alter it with 1. After the altering, if the sum drops below 16, go to the previous step and continue picking cards.\n",
    "    - Add the total sum of the hand to the list as a result.\n",
    "\n",
    "- Visualize the histogram of the list.\n",
    "    - See the distribution and results of the simulation."
   ]
  },
  {
   "cell_type": "code",
   "execution_count": 217,
   "id": "3c4daa2b",
   "metadata": {},
   "outputs": [
    {
     "name": "stdout",
     "output_type": "stream",
     "text": [
      "Won 10.9% of the time\n"
     ]
    },
    {
     "data": {
      "image/png": "[encoded data removed]",
      "text/plain": [
       "<Figure size 432x288 with 1 Axes>"
      ]
     },
     "metadata": {
      "needs_background": "light"
     },
     "output_type": "display_data"
    }
   ],
   "source": [
    "# %load baseline_strategy.py\n",
    "import random\n",
    "import seaborn as sb\n",
    "\n",
    "random.seed(0)\n",
    "\n",
    "\n",
    "def create_deck():\n",
    "    \"\"\"\n",
    "    Create a list that represents the card deck\n",
    "\n",
    "    Cards are represented by a number according to the following rules:\n",
    "    - Cards from 2 to 10 are represented by their number\n",
    "    - Jacks, Queens, and Kings (court cards) are represented by the number 10\n",
    "    - Aces are represented by 11\n",
    "\n",
    "    Card suits (clubs, diamonds, hearts, and spades) don't matter in the game, so they're not recorded.\n",
    "    \n",
    "    Copied from create_deck.py\n",
    "    \"\"\"\n",
    "    numeric_cards = range(2,11)\n",
    "    value_court_cards = 10\n",
    "    n_court_cards = 3\n",
    "    value_ace = 11\n",
    "\n",
    "    cards_in_a_suit = list(numeric_cards) + [value_court_cards]*n_court_cards + [value_ace]\n",
    "    deck = 4 * cards_in_a_suit\n",
    "\n",
    "    return deck\n",
    "\n",
    "\n",
    "def alter_ace(hand):\n",
    "    hand.remove(11)\n",
    "    hand.append(1)\n",
    "    return hand\n",
    "\n",
    "\n",
    "def simulate_one_game():\n",
    "    THRESHOLD = 16\n",
    "    \n",
    "    deck = create_deck()\n",
    "    random.shuffle(deck)\n",
    "    \n",
    "    hand = [deck.pop(), deck.pop()]\n",
    "\n",
    "    # there are exactly 2 aces\n",
    "    # so use use of them as 1 instead of 11\n",
    "    if sum(hand) == 22:\n",
    "        hand = alter_ace(hand)\n",
    "\n",
    "    while sum(hand) < THRESHOLD:\n",
    "        hand.append(deck.pop())\n",
    "        if sum(hand) > 21 and 11 in hand:\n",
    "            hand = alter_ace(hand)\n",
    "    \n",
    "    return hand\n",
    "\n",
    "\n",
    "def simulate_n_games(n=100):\n",
    "    results = [sum(simulate_one_game()) for i in range(n)]\n",
    "\n",
    "    sb.histplot(results, discrete=True)\n",
    "        \n",
    "    pct_wins = 100 * (len([x for x in results if x == 21]) / n)\n",
    "    print(f'Won {pct_wins:.1f}% of the time')\n",
    "\n",
    "\n",
    "if __name__ == '__main__':\n",
    "    simulate_n_games(100000)\n"
   ]
  },
  {
   "cell_type": "code",
   "execution_count": null,
   "id": "358ab4c2",
   "metadata": {},
   "outputs": [],
   "source": []
  },
  {
   "cell_type": "code",
   "execution_count": null,
   "id": "7b499887",
   "metadata": {},
   "outputs": [],
   "source": []
  },
  {
   "cell_type": "code",
   "execution_count": null,
   "id": "d1a62642",
   "metadata": {},
   "outputs": [],
   "source": []
  },
  {
   "cell_type": "code",
   "execution_count": null,
   "id": "39e40274",
   "metadata": {},
   "outputs": [],
   "source": []
  },
  {
   "cell_type": "code",
   "execution_count": null,
   "id": "d61a48aa",
   "metadata": {},
   "outputs": [],
   "source": []
  },
  {
   "cell_type": "code",
   "execution_count": null,
   "id": "2d23b039",
   "metadata": {},
   "outputs": [],
   "source": []
  },
  {
   "cell_type": "code",
   "execution_count": null,
   "id": "d5c72eb4",
   "metadata": {},
   "outputs": [],
   "source": []
  },
  {
   "cell_type": "code",
   "execution_count": null,
   "id": "fc8664f6",
   "metadata": {},
   "outputs": [],
   "source": []
  },
  {
   "cell_type": "code",
   "execution_count": null,
   "id": "219877be",
   "metadata": {},
   "outputs": [],
   "source": []
  },
  {
   "cell_type": "code",
   "execution_count": null,
   "id": "6a7eeba4",
   "metadata": {},
   "outputs": [],
   "source": []
  },
  {
   "cell_type": "code",
   "execution_count": null,
   "id": "9079e71d",
   "metadata": {},
   "outputs": [],
   "source": []
  },
  {
   "cell_type": "code",
   "execution_count": null,
   "id": "bb8c656c",
   "metadata": {},
   "outputs": [],
   "source": []
  },
  {
   "cell_type": "code",
   "execution_count": null,
   "id": "c3a81d93",
   "metadata": {},
   "outputs": [],
   "source": []
  },
  {
   "cell_type": "code",
   "execution_count": null,
   "id": "a4b98fea",
   "metadata": {},
   "outputs": [],
   "source": []
  },
  {
   "cell_type": "code",
   "execution_count": null,
   "id": "d851ed93",
   "metadata": {},
   "outputs": [],
   "source": []
  },
  {
   "cell_type": "code",
   "execution_count": null,
   "id": "f1921fce",
   "metadata": {},
   "outputs": [],
   "source": []
  }
 ],
 "metadata": {
  "kernelspec": {
   "display_name": "Python 3",
   "language": "python",
   "name": "python3"
  },
  "language_info": {
   "codemirror_mode": {
    "name": "ipython",
    "version": 3
   },
   "file_extension": ".py",
   "mimetype": "text/x-python",
   "name": "python",
   "nbconvert_exporter": "python",
   "pygments_lexer": "ipython3",
   "version": "3.8.8"
  }
 },
 "nbformat": 4,
 "nbformat_minor": 5
}
