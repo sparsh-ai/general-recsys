{
 "cells": [
  {
   "cell_type": "markdown",
   "metadata": {},
   "source": [
    "# Objective\n",
    "\n",
    "Create a Python list that represents a standard 52-card deck.\n",
    "\n",
    "# Instructions\n",
    "\n",
    "- Write a for loop that produces a Python list called unshuffled_deck that represents a 52-card deck.\n",
    "    - A standard 52-card deck consists of numbers from 2 to 10 as well as a jack, a queen, a king, and an ace in 4 different suits: clubs, diamonds, hearts, and spades. In our deck, we will assume that there is no difference between suits due to their impotency in the game.\n",
    "    - Represent each card in the list with a numerical value as follows:\n",
    "        - Assign their own value for the cards from 2 to 10.\n",
    "        - Assign 10 for each jack, queen, and king.\n",
    "        - Assign 11 for each ace as an initial value. In the game, aces can have a value of 1 or 11, and we will account for their different possible values in a later milestone.\n",
    "    - As a result, the list should include 52 numerical elements.\n",
    "- Visualize the histogram of the list of the deck.\n",
    "    - Plot a chart that shows the histogram of the values in the list."
   ]
  },
  {
   "cell_type": "code",
   "execution_count": 3,
   "metadata": {},
   "outputs": [
    {
     "name": "stdout",
     "output_type": "stream",
     "text": [
      "Deck is ok\n"
     ]
    },
    {
     "data": {
      "image/png": "[encoded data removed]",
      "text/plain": [
       "<Figure size 432x288 with 1 Axes>"
      ]
     },
     "metadata": {
      "needs_background": "light"
     },
     "output_type": "display_data"
    }
   ],
   "source": [
    "# %load create_deck.py\n",
    "import matplotlib.pyplot as plt\n",
    "from collections import Counter\n",
    "\n",
    "def create_deck():\n",
    "    \"\"\"\n",
    "    Create a list that represents the card deck\n",
    "\n",
    "    Cards are represented by a number according to the following rules:\n",
    "    - Cards from 2 to 10 are represented by their number\n",
    "    - Jacks, Queens, and Kings (court cards) are represented by the number 10\n",
    "    - Aces are represented by 11\n",
    "\n",
    "    Card suits (clubs, diamonds, hearts, and spades) don't matter in the game, so they're not recorded.\n",
    "    \"\"\"\n",
    "    numeric_cards = range(2,11)\n",
    "    value_court_cards = 10\n",
    "    n_court_cards = 3\n",
    "    value_ace = 11\n",
    "\n",
    "    cards_in_a_suit = list(numeric_cards) + [value_court_cards]*n_court_cards + [value_ace]\n",
    "    deck = 4 * cards_in_a_suit\n",
    "\n",
    "    return deck\n",
    "\n",
    "\n",
    "def check_deck(deck):\n",
    "    \"\"\"\n",
    "    Check if the counts per value are correct\n",
    "    \n",
    "    The asserts will raise an exception if there's any issue.\n",
    "    If it's alright, it'll simply print the last message.\n",
    "    \"\"\"\n",
    "    numeric_cards_except_ten = range(2,10)\n",
    "\n",
    "    assert len(deck) == 52, 'The deck must have 52 cards'\n",
    "    counts = Counter(deck)\n",
    "    for val in numeric_cards_except_ten:\n",
    "        assert counts[val] == 4, \\\n",
    "            'There should be 4 of each numeric card from 2 to 9 inclusive'\n",
    "\n",
    "    assert counts[10] == 4*4, \\\n",
    "        'There should be 16 with value 10. The 10 itself + 3 courd cards for each of the 4 suits'\n",
    "\n",
    "    assert counts[11] == 4, \\\n",
    "        'There should 4 aces, which are represented by 11'\n",
    "    print('Deck is ok')\n",
    "    \n",
    "    \n",
    "def plot_histogram(deck):\n",
    "    \"\"\"\n",
    "    Plot a bar plot of counts of each card value\n",
    "    \n",
    "    Doing a standard bar plot instead of a histogram because the X axis' ticks look nicer this way\n",
    "    \"\"\"\n",
    "    counts = Counter(deck)\n",
    "\n",
    "    # doing this instead of getting .keys() and .values() separately to make sure they're in the same order\n",
    "    x, y = list(zip(*counts.items()))\n",
    "\n",
    "    plt.bar(x, y)\n",
    "    plt.title('Count of cards')\n",
    "    plt.ylabel('No. of cards')\n",
    "    _=plt.xlabel('Card value')\n",
    "\n",
    "\n",
    "def main():\n",
    "    deck = create_deck()\n",
    "    check_deck(deck)\n",
    "    plot_histogram(deck)\n",
    "\n",
    "\n",
    "if __name__ == '__main__':\n",
    "    main()\n"
   ]
  }
 ],
 "metadata": {
  "kernelspec": {
   "display_name": "Python 3 (ipykernel)",
   "language": "python",
   "name": "python3"
  },
  "language_info": {
   "codemirror_mode": {
    "name": "ipython",
    "version": 3
   },
   "file_extension": ".py",
   "mimetype": "text/x-python",
   "name": "python",
   "nbconvert_exporter": "python",
   "pygments_lexer": "ipython3",
   "version": "3.9.7"
  }
 },
 "nbformat": 4,
 "nbformat_minor": 2
}
