{
 "cells": [
  {
   "cell_type": "markdown",
   "id": "ba51504b",
   "metadata": {},
   "source": [
    "# Dataset info\n",
    "\n",
    "#### Name\n",
    "Bitcoin OTC trust weighted signed network\n",
    "\n",
    "#### Description\n",
    "This is who-trusts-whom network of people who trade using Bitcoin on a platform called Bitcoin OTC. Since Bitcoin users are anonymous, there is a need to maintain a record of users' reputation to prevent transactions with fraudulent and risky users. Members of Bitcoin OTC rate other members in a scale of -10 (total distrust) to +10 (total trust) in steps of 1. This is the first explicit weighted signed directed network available for research.\n",
    "\n",
    "#### Source\n",
    "https://snap.stanford.edu/data/soc-sign-bitcoin-otc.html\n",
    "        \n",
    "#### Data format\n",
    "Each line has one rating, sorted by time, with the following format:\n",
    "\n",
    "`SOURCE, TARGET, RATING, TIME`\n",
    "\n",
    "where\n",
    "\n",
    "- `SOURCE`: node id of source, i.e., rater\n",
    "- `TARGET`: node id of target, i.e., ratee\n",
    "- `RATING`: the source's rating for the target, ranging from -10 to +10 in steps of 1\n",
    "- `TIME`: the time of the rating, measured as seconds since Epoch"
   ]
  },
  {
   "cell_type": "markdown",
   "id": "8cb2470a",
   "metadata": {},
   "source": [
    "# Exploratory analysis"
   ]
  },
  {
   "cell_type": "markdown",
   "id": "2cc8e2ec",
   "metadata": {},
   "source": [
    "## 1. Import libs"
   ]
  },
  {
   "cell_type": "code",
   "execution_count": 1,
   "id": "e2e12911",
   "metadata": {},
   "outputs": [],
   "source": [
    "import pandas as pd\n",
    "import seaborn as sb\n",
    "from datetime import datetime\n",
    "import matplotlib.pyplot as plt"
   ]
  },
  {
   "cell_type": "markdown",
   "id": "a6f68f88",
   "metadata": {},
   "source": [
    "## 2. Download dataset\n",
    "\n",
    "***If you run the following cells it'll download and unzip the file in your working directory.***"
   ]
  },
  {
   "cell_type": "code",
   "execution_count": 2,
   "id": "ad663c8d",
   "metadata": {},
   "outputs": [
    {
     "name": "stdout",
     "output_type": "stream",
     "text": [
      "  % Total    % Received % Xferd  Average Speed   Time    Time     Time  Current\n",
      "                                 Dload  Upload   Total   Spent    Left  Speed\n",
      "100  387k  100  387k    0     0   152k      0  0:00:02  0:00:02 --:--:--  152k\n"
     ]
    }
   ],
   "source": [
    "!curl https://snap.stanford.edu/data/soc-sign-bitcoinotc.csv.gz --output soc-sign-bitcoinotc.csv.gz"
   ]
  },
  {
   "cell_type": "code",
   "execution_count": 3,
   "id": "251723b6",
   "metadata": {},
   "outputs": [],
   "source": [
    "!gzip -d soc-sign-bitcoinotc.csv.gz"
   ]
  },
  {
   "cell_type": "code",
   "execution_count": 4,
   "id": "02da18ca",
   "metadata": {},
   "outputs": [
    {
     "name": "stdout",
     "output_type": "stream",
     "text": [
      "reading_and_analyzing_the_dataset.ipynb soc-sign-bitcoinotc.csv\r\n"
     ]
    }
   ],
   "source": [
    "!ls"
   ]
  },
  {
   "cell_type": "markdown",
   "id": "09087934",
   "metadata": {},
   "source": [
    "## 3,4. Read file and transform `time` column to datetime"
   ]
  },
  {
   "cell_type": "code",
   "execution_count": 5,
   "id": "22031c1e",
   "metadata": {},
   "outputs": [
    {
     "data": {
      "text/html": [
       "<div>\n",
       "<style scoped>\n",
       "    .dataframe tbody tr th:only-of-type {\n",
       "        vertical-align: middle;\n",
       "    }\n",
       "\n",
       "    .dataframe tbody tr th {\n",
       "        vertical-align: top;\n",
       "    }\n",
       "\n",
       "    .dataframe thead th {\n",
       "        text-align: right;\n",
       "    }\n",
       "</style>\n",
       "<table border=\"1\" class=\"dataframe\">\n",
       "  <thead>\n",
       "    <tr style=\"text-align: right;\">\n",
       "      <th></th>\n",
       "      <th>source</th>\n",
       "      <th>target</th>\n",
       "      <th>rating</th>\n",
       "      <th>time_epoch</th>\n",
       "      <th>time</th>\n",
       "    </tr>\n",
       "  </thead>\n",
       "  <tbody>\n",
       "    <tr>\n",
       "      <th>0</th>\n",
       "      <td>6</td>\n",
       "      <td>2</td>\n",
       "      <td>4</td>\n",
       "      <td>1.289242e+09</td>\n",
       "      <td>2010-11-08 19:45:11.728360</td>\n",
       "    </tr>\n",
       "    <tr>\n",
       "      <th>1</th>\n",
       "      <td>6</td>\n",
       "      <td>5</td>\n",
       "      <td>2</td>\n",
       "      <td>1.289242e+09</td>\n",
       "      <td>2010-11-08 19:45:41.533780</td>\n",
       "    </tr>\n",
       "    <tr>\n",
       "      <th>2</th>\n",
       "      <td>1</td>\n",
       "      <td>15</td>\n",
       "      <td>1</td>\n",
       "      <td>1.289243e+09</td>\n",
       "      <td>2010-11-08 20:05:40.390490</td>\n",
       "    </tr>\n",
       "    <tr>\n",
       "      <th>3</th>\n",
       "      <td>4</td>\n",
       "      <td>3</td>\n",
       "      <td>7</td>\n",
       "      <td>1.289245e+09</td>\n",
       "      <td>2010-11-08 20:41:17.369750</td>\n",
       "    </tr>\n",
       "    <tr>\n",
       "      <th>4</th>\n",
       "      <td>13</td>\n",
       "      <td>16</td>\n",
       "      <td>8</td>\n",
       "      <td>1.289254e+09</td>\n",
       "      <td>2010-11-08 23:10:54.447460</td>\n",
       "    </tr>\n",
       "  </tbody>\n",
       "</table>\n",
       "</div>"
      ],
      "text/plain": [
       "   source  target  rating    time_epoch                       time\n",
       "0       6       2       4  1.289242e+09 2010-11-08 19:45:11.728360\n",
       "1       6       5       2  1.289242e+09 2010-11-08 19:45:41.533780\n",
       "2       1      15       1  1.289243e+09 2010-11-08 20:05:40.390490\n",
       "3       4       3       7  1.289245e+09 2010-11-08 20:41:17.369750\n",
       "4      13      16       8  1.289254e+09 2010-11-08 23:10:54.447460"
      ]
     },
     "execution_count": 5,
     "metadata": {},
     "output_type": "execute_result"
    }
   ],
   "source": [
    "df = (\n",
    "    pd\n",
    "    .read_csv('soc-sign-bitcoinotc.csv', names=['source', 'target', 'rating', 'time_epoch'])\n",
    "    .assign(time=lambda df: df.time_epoch.apply(datetime.fromtimestamp))\n",
    ")\n",
    "df.head()"
   ]
  },
  {
   "cell_type": "code",
   "execution_count": 6,
   "id": "5537e730",
   "metadata": {},
   "outputs": [
    {
     "data": {
      "text/plain": [
       "(35592, 5)"
      ]
     },
     "execution_count": 6,
     "metadata": {},
     "output_type": "execute_result"
    }
   ],
   "source": [
    "df.shape"
   ]
  },
  {
   "cell_type": "markdown",
   "id": "a76da43f",
   "metadata": {},
   "source": [
    "## 5. Use the pandas function `describe`"
   ]
  },
  {
   "cell_type": "code",
   "execution_count": 7,
   "id": "d52a66a8",
   "metadata": {},
   "outputs": [
    {
     "data": {
      "text/html": [
       "<div>\n",
       "<style scoped>\n",
       "    .dataframe tbody tr th:only-of-type {\n",
       "        vertical-align: middle;\n",
       "    }\n",
       "\n",
       "    .dataframe tbody tr th {\n",
       "        vertical-align: top;\n",
       "    }\n",
       "\n",
       "    .dataframe thead th {\n",
       "        text-align: right;\n",
       "    }\n",
       "</style>\n",
       "<table border=\"1\" class=\"dataframe\">\n",
       "  <thead>\n",
       "    <tr style=\"text-align: right;\">\n",
       "      <th></th>\n",
       "      <th>source</th>\n",
       "      <th>target</th>\n",
       "      <th>rating</th>\n",
       "      <th>time_epoch</th>\n",
       "    </tr>\n",
       "  </thead>\n",
       "  <tbody>\n",
       "    <tr>\n",
       "      <th>count</th>\n",
       "      <td>35592.000000</td>\n",
       "      <td>35592.000000</td>\n",
       "      <td>35592.000000</td>\n",
       "      <td>3.559200e+04</td>\n",
       "    </tr>\n",
       "    <tr>\n",
       "      <th>mean</th>\n",
       "      <td>2353.847269</td>\n",
       "      <td>2417.478254</td>\n",
       "      <td>1.012025</td>\n",
       "      <td>1.355711e+09</td>\n",
       "    </tr>\n",
       "    <tr>\n",
       "      <th>std</th>\n",
       "      <td>1605.771178</td>\n",
       "      <td>1658.232170</td>\n",
       "      <td>3.562094</td>\n",
       "      <td>3.344739e+07</td>\n",
       "    </tr>\n",
       "    <tr>\n",
       "      <th>min</th>\n",
       "      <td>1.000000</td>\n",
       "      <td>1.000000</td>\n",
       "      <td>-10.000000</td>\n",
       "      <td>1.289242e+09</td>\n",
       "    </tr>\n",
       "    <tr>\n",
       "      <th>25%</th>\n",
       "      <td>988.000000</td>\n",
       "      <td>978.000000</td>\n",
       "      <td>1.000000</td>\n",
       "      <td>1.331243e+09</td>\n",
       "    </tr>\n",
       "    <tr>\n",
       "      <th>50%</th>\n",
       "      <td>2125.000000</td>\n",
       "      <td>2178.000000</td>\n",
       "      <td>1.000000</td>\n",
       "      <td>1.358385e+09</td>\n",
       "    </tr>\n",
       "    <tr>\n",
       "      <th>75%</th>\n",
       "      <td>3722.000000</td>\n",
       "      <td>3804.000000</td>\n",
       "      <td>2.000000</td>\n",
       "      <td>1.376599e+09</td>\n",
       "    </tr>\n",
       "    <tr>\n",
       "      <th>max</th>\n",
       "      <td>6000.000000</td>\n",
       "      <td>6005.000000</td>\n",
       "      <td>10.000000</td>\n",
       "      <td>1.453684e+09</td>\n",
       "    </tr>\n",
       "  </tbody>\n",
       "</table>\n",
       "</div>"
      ],
      "text/plain": [
       "             source        target        rating    time_epoch\n",
       "count  35592.000000  35592.000000  35592.000000  3.559200e+04\n",
       "mean    2353.847269   2417.478254      1.012025  1.355711e+09\n",
       "std     1605.771178   1658.232170      3.562094  3.344739e+07\n",
       "min        1.000000      1.000000    -10.000000  1.289242e+09\n",
       "25%      988.000000    978.000000      1.000000  1.331243e+09\n",
       "50%     2125.000000   2178.000000      1.000000  1.358385e+09\n",
       "75%     3722.000000   3804.000000      2.000000  1.376599e+09\n",
       "max     6000.000000   6005.000000     10.000000  1.453684e+09"
      ]
     },
     "execution_count": 7,
     "metadata": {},
     "output_type": "execute_result"
    }
   ],
   "source": [
    "df.describe()"
   ]
  },
  {
   "cell_type": "markdown",
   "id": "95a0b702",
   "metadata": {},
   "source": [
    "- There doesn't seem to be any nulls\n",
    "- `source` and `target`\n",
    "    - There are some ids that are in `target` and not in `source`\n",
    "    - Could be other way around as well\n",
    "- `rating`\n",
    "    - Can go from -10 to 10\n",
    "    - Average (1.01) seems to be low compared to the range"
   ]
  },
  {
   "cell_type": "markdown",
   "id": "d968f2b0",
   "metadata": {},
   "source": [
    "## 6. Aggregate the ‘time’ column by weeks and plot the total row counts as a time series graph."
   ]
  },
  {
   "cell_type": "code",
   "execution_count": 8,
   "id": "87321f8b",
   "metadata": {},
   "outputs": [
    {
     "data": {
      "text/plain": [
       "(Timestamp('2010-11-08 19:45:11.728360'),\n",
       " Timestamp('2016-01-25 02:12:03.757280'))"
      ]
     },
     "execution_count": 8,
     "metadata": {},
     "output_type": "execute_result"
    }
   ],
   "source": [
    "df.time.min(), df.time.max()"
   ]
  },
  {
   "cell_type": "code",
   "execution_count": 9,
   "id": "c0dd6164",
   "metadata": {},
   "outputs": [
    {
     "data": {
      "text/plain": [
       "time\n",
       "2010-11-07    28\n",
       "2010-11-14    12\n",
       "2010-11-21    12\n",
       "2010-11-28    11\n",
       "2010-12-05    19\n",
       "Freq: W-SUN, Name: source, dtype: int64"
      ]
     },
     "execution_count": 9,
     "metadata": {},
     "output_type": "execute_result"
    }
   ],
   "source": [
    "# label='left' means that the label used is the beginning (left) of the bin\n",
    "# closed='left' means that the bin interval is closed on the beginning (left) of the interval\n",
    "# chooshing only one column, in this case source, because all would give the same result\n",
    "weekly_counts = df.resample('1W', on='time', label='left', closed='left')['source'].count()\n",
    "weekly_counts.head()"
   ]
  },
  {
   "cell_type": "code",
   "execution_count": 10,
   "id": "37601cc8",
   "metadata": {},
   "outputs": [
    {
     "data": {
      "image/png": "[encoded data removed]",
      "text/plain": [
       "<Figure size 432x288 with 1 Axes>"
      ]
     },
     "metadata": {
      "needs_background": "light"
     },
     "output_type": "display_data"
    }
   ],
   "source": [
    "weekly_counts.plot()\n",
    "\n",
    "plt.title('No. of rows per week')\n",
    "plt.ylabel('Rows')\n",
    "_=plt.xlabel('Week')"
   ]
  },
  {
   "cell_type": "markdown",
   "id": "cd8f9a70",
   "metadata": {},
   "source": [
    "There are some spikes in number of rows in certain periods. Are these spikes in usage of the network as well? "
   ]
  },
  {
   "cell_type": "markdown",
   "id": "e30bf556",
   "metadata": {},
   "source": [
    "## 7. Aggregate the ‘time’ column by weeks and plot the average ratings as a time series graph."
   ]
  },
  {
   "cell_type": "code",
   "execution_count": 11,
   "id": "d054ddbf",
   "metadata": {},
   "outputs": [
    {
     "data": {
      "text/plain": [
       "time\n",
       "2010-11-07    5.035714\n",
       "2010-11-14    2.500000\n",
       "2010-11-21    2.083333\n",
       "2010-11-28    3.272727\n",
       "2010-12-05    1.263158\n",
       "Freq: W-SUN, Name: rating, dtype: float64"
      ]
     },
     "execution_count": 11,
     "metadata": {},
     "output_type": "execute_result"
    }
   ],
   "source": [
    "weekly_avg_ratings = df.resample('1W', on='time', label='left', closed='left')['rating'].mean()\n",
    "weekly_avg_ratings.head()"
   ]
  },
  {
   "cell_type": "code",
   "execution_count": 12,
   "id": "606a94a1",
   "metadata": {},
   "outputs": [
    {
     "data": {
      "image/png": "[encoded data removed]",
      "text/plain": [
       "<Figure size 432x288 with 1 Axes>"
      ]
     },
     "metadata": {
      "needs_background": "light"
     },
     "output_type": "display_data"
    }
   ],
   "source": [
    "weekly_avg_ratings.plot()\n",
    "\n",
    "plt.title('Avg. rating per week')\n",
    "plt.ylabel('Rating')\n",
    "_=plt.xlabel('Week')"
   ]
  },
  {
   "cell_type": "markdown",
   "id": "cdec045d",
   "metadata": {},
   "source": [
    "Some of these valleys seem to match the spikes in no. of rows seen in the plot above"
   ]
  },
  {
   "cell_type": "markdown",
   "id": "1a17ead7",
   "metadata": {},
   "source": [
    "## 8. Plot the histogram of ratings"
   ]
  },
  {
   "cell_type": "code",
   "execution_count": 13,
   "id": "b4522d15",
   "metadata": {},
   "outputs": [
    {
     "data": {
      "image/png": "[encoded data removed]",
      "text/plain": [
       "<Figure size 432x288 with 1 Axes>"
      ]
     },
     "metadata": {
      "needs_background": "light"
     },
     "output_type": "display_data"
    }
   ],
   "source": [
    "sb.histplot(df.rating, discrete=True)\n",
    "\n",
    "_=plt.title('Histogram of ratings')"
   ]
  },
  {
   "cell_type": "markdown",
   "id": "6fdc8636",
   "metadata": {},
   "source": [
    "There seem to be a tendency towards either small values or the extremes (-10 and 10) with more positive than negative ratings overall"
   ]
  },
  {
   "cell_type": "markdown",
   "id": "f7239cd3",
   "metadata": {},
   "source": [
    "## 9. Plot the histogram of average ratings grouped by targeted users"
   ]
  },
  {
   "cell_type": "code",
   "execution_count": 14,
   "id": "4f9cf82c",
   "metadata": {},
   "outputs": [
    {
     "data": {
      "text/plain": [
       "target\n",
       "1    3.544248\n",
       "2    3.000000\n",
       "3   -0.285714\n",
       "4    3.111111\n",
       "5    2.333333\n",
       "Name: rating, dtype: float64"
      ]
     },
     "execution_count": 14,
     "metadata": {},
     "output_type": "execute_result"
    }
   ],
   "source": [
    "avg_ratings_per_target = df.groupby('target')['rating'].mean()\n",
    "avg_ratings_per_target.head()"
   ]
  },
  {
   "cell_type": "code",
   "execution_count": 15,
   "id": "60bad47a",
   "metadata": {},
   "outputs": [
    {
     "data": {
      "image/png": "[encoded data removed]",
      "text/plain": [
       "<Figure size 432x288 with 1 Axes>"
      ]
     },
     "metadata": {
      "needs_background": "light"
     },
     "output_type": "display_data"
    }
   ],
   "source": [
    "sb.histplot(avg_ratings_per_target)\n",
    "\n",
    "_=plt.title('Histogram of the avg. rating per target user')"
   ]
  },
  {
   "cell_type": "markdown",
   "id": "db54ba15",
   "metadata": {},
   "source": [
    "Too many bins but interesting to see a bit more of the pattern between 0 and 2.5-ish"
   ]
  },
  {
   "cell_type": "code",
   "execution_count": null,
   "id": "3e9d2e81",
   "metadata": {},
   "outputs": [],
   "source": []
  },
  {
   "cell_type": "code",
   "execution_count": null,
   "id": "e0b94e05",
   "metadata": {},
   "outputs": [],
   "source": []
  },
  {
   "cell_type": "code",
   "execution_count": null,
   "id": "5eafe195",
   "metadata": {},
   "outputs": [],
   "source": []
  },
  {
   "cell_type": "code",
   "execution_count": null,
   "id": "6f3aac8b",
   "metadata": {},
   "outputs": [],
   "source": []
  },
  {
   "cell_type": "code",
   "execution_count": null,
   "id": "de643a4f",
   "metadata": {},
   "outputs": [],
   "source": []
  },
  {
   "cell_type": "code",
   "execution_count": null,
   "id": "92797d2b",
   "metadata": {},
   "outputs": [],
   "source": []
  },
  {
   "cell_type": "code",
   "execution_count": null,
   "id": "f5b13390",
   "metadata": {},
   "outputs": [],
   "source": []
  },
  {
   "cell_type": "code",
   "execution_count": null,
   "id": "94a7eb56",
   "metadata": {},
   "outputs": [],
   "source": []
  }
 ],
 "metadata": {
  "kernelspec": {
   "display_name": "Python 3",
   "language": "python",
   "name": "python3"
  },
  "language_info": {
   "codemirror_mode": {
    "name": "ipython",
    "version": 3
   },
   "file_extension": ".py",
   "mimetype": "text/x-python",
   "name": "python",
   "nbconvert_exporter": "python",
   "pygments_lexer": "ipython3",
   "version": "3.8.8"
  }
 },
 "nbformat": 4,
 "nbformat_minor": 5
}
