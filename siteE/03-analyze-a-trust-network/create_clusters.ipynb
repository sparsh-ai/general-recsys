{
 "cells": [
  {
   "cell_type": "markdown",
   "id": "729dfce5",
   "metadata": {},
   "source": [
    "# Objective\n",
    "\n",
    "Create clusters of users and interpret them.\n",
    "\n",
    "# Instructions\n",
    "- Import the k-means class from the Scikit-learn library.\n",
    "- Apply normalization to all columns in feature_df to bring all features to the same scale before modeling.\n",
    "- Create a k-means model with n_clusters = 5 and random_state = 0.\n",
    "- Predict the clusters of users in feature_df and assign them into a new column.\n",
    "- Print out the size of clusters and averages of each feature grouped by clusters."
   ]
  },
  {
   "cell_type": "code",
   "execution_count": 1,
   "id": "e133fd0e",
   "metadata": {},
   "outputs": [],
   "source": [
    "import pandas as pd\n",
    "from sklearn.cluster import KMeans\n",
    "from sklearn import preprocessing"
   ]
  },
  {
   "cell_type": "code",
   "execution_count": 2,
   "id": "fdec9d34",
   "metadata": {},
   "outputs": [
    {
     "data": {
      "text/html": [
       "<div>\n",
       "<style scoped>\n",
       "    .dataframe tbody tr th:only-of-type {\n",
       "        vertical-align: middle;\n",
       "    }\n",
       "\n",
       "    .dataframe tbody tr th {\n",
       "        vertical-align: top;\n",
       "    }\n",
       "\n",
       "    .dataframe thead th {\n",
       "        text-align: right;\n",
       "    }\n",
       "</style>\n",
       "<table border=\"1\" class=\"dataframe\">\n",
       "  <thead>\n",
       "    <tr style=\"text-align: right;\">\n",
       "      <th></th>\n",
       "      <th>target</th>\n",
       "      <th>avg_rating</th>\n",
       "      <th>avg_rating_inbound_users</th>\n",
       "      <th>in_degree</th>\n",
       "      <th>out_degree</th>\n",
       "      <th>page_rank</th>\n",
       "    </tr>\n",
       "  </thead>\n",
       "  <tbody>\n",
       "    <tr>\n",
       "      <th>0</th>\n",
       "      <td>1</td>\n",
       "      <td>3.544248</td>\n",
       "      <td>1.640546</td>\n",
       "      <td>226</td>\n",
       "      <td>215</td>\n",
       "      <td>0.005028</td>\n",
       "    </tr>\n",
       "    <tr>\n",
       "      <th>1</th>\n",
       "      <td>2</td>\n",
       "      <td>3.000000</td>\n",
       "      <td>1.735650</td>\n",
       "      <td>41</td>\n",
       "      <td>45</td>\n",
       "      <td>0.000978</td>\n",
       "    </tr>\n",
       "    <tr>\n",
       "      <th>2</th>\n",
       "      <td>3</td>\n",
       "      <td>-0.285714</td>\n",
       "      <td>2.819381</td>\n",
       "      <td>21</td>\n",
       "      <td>0</td>\n",
       "      <td>0.000382</td>\n",
       "    </tr>\n",
       "    <tr>\n",
       "      <th>3</th>\n",
       "      <td>4</td>\n",
       "      <td>3.111111</td>\n",
       "      <td>1.812079</td>\n",
       "      <td>54</td>\n",
       "      <td>63</td>\n",
       "      <td>0.001289</td>\n",
       "    </tr>\n",
       "    <tr>\n",
       "      <th>4</th>\n",
       "      <td>5</td>\n",
       "      <td>2.333333</td>\n",
       "      <td>2.591068</td>\n",
       "      <td>3</td>\n",
       "      <td>3</td>\n",
       "      <td>0.000093</td>\n",
       "    </tr>\n",
       "  </tbody>\n",
       "</table>\n",
       "</div>"
      ],
      "text/plain": [
       "   target  avg_rating  avg_rating_inbound_users  in_degree  out_degree  \\\n",
       "0       1    3.544248                  1.640546        226         215   \n",
       "1       2    3.000000                  1.735650         41          45   \n",
       "2       3   -0.285714                  2.819381         21           0   \n",
       "3       4    3.111111                  1.812079         54          63   \n",
       "4       5    2.333333                  2.591068          3           3   \n",
       "\n",
       "   page_rank  \n",
       "0   0.005028  \n",
       "1   0.000978  \n",
       "2   0.000382  \n",
       "3   0.001289  \n",
       "4   0.000093  "
      ]
     },
     "execution_count": 2,
     "metadata": {},
     "output_type": "execute_result"
    }
   ],
   "source": [
    "df = pd.read_csv('features.csv')\n",
    "df.head()"
   ]
  },
  {
   "cell_type": "markdown",
   "id": "7e51a0cd",
   "metadata": {},
   "source": [
    "## Scale features"
   ]
  },
  {
   "cell_type": "code",
   "execution_count": 3,
   "id": "414aa3dd",
   "metadata": {},
   "outputs": [],
   "source": [
    "for col in [x for x in df.columns if x != 'target']:\n",
    "    df[col] = preprocessing.minmax_scale(df[col])"
   ]
  },
  {
   "cell_type": "code",
   "execution_count": 4,
   "id": "06d1a43c",
   "metadata": {},
   "outputs": [
    {
     "data": {
      "text/html": [
       "<div>\n",
       "<style scoped>\n",
       "    .dataframe tbody tr th:only-of-type {\n",
       "        vertical-align: middle;\n",
       "    }\n",
       "\n",
       "    .dataframe tbody tr th {\n",
       "        vertical-align: top;\n",
       "    }\n",
       "\n",
       "    .dataframe thead th {\n",
       "        text-align: right;\n",
       "    }\n",
       "</style>\n",
       "<table border=\"1\" class=\"dataframe\">\n",
       "  <thead>\n",
       "    <tr style=\"text-align: right;\">\n",
       "      <th></th>\n",
       "      <th>target</th>\n",
       "      <th>avg_rating</th>\n",
       "      <th>avg_rating_inbound_users</th>\n",
       "      <th>in_degree</th>\n",
       "      <th>out_degree</th>\n",
       "      <th>page_rank</th>\n",
       "    </tr>\n",
       "  </thead>\n",
       "  <tbody>\n",
       "    <tr>\n",
       "      <th>count</th>\n",
       "      <td>5858.000000</td>\n",
       "      <td>5858.000000</td>\n",
       "      <td>5858.000000</td>\n",
       "      <td>5858.000000</td>\n",
       "      <td>5858.000000</td>\n",
       "      <td>5858.000000</td>\n",
       "    </tr>\n",
       "    <tr>\n",
       "      <th>mean</th>\n",
       "      <td>3003.711676</td>\n",
       "      <td>0.536430</td>\n",
       "      <td>0.638773</td>\n",
       "      <td>0.009505</td>\n",
       "      <td>0.007953</td>\n",
       "      <td>0.008946</td>\n",
       "    </tr>\n",
       "    <tr>\n",
       "      <th>std</th>\n",
       "      <td>1721.680985</td>\n",
       "      <td>0.141352</td>\n",
       "      <td>0.069471</td>\n",
       "      <td>0.033157</td>\n",
       "      <td>0.027689</td>\n",
       "      <td>0.028096</td>\n",
       "    </tr>\n",
       "    <tr>\n",
       "      <th>min</th>\n",
       "      <td>1.000000</td>\n",
       "      <td>0.000000</td>\n",
       "      <td>0.000000</td>\n",
       "      <td>0.000000</td>\n",
       "      <td>0.000000</td>\n",
       "      <td>0.000000</td>\n",
       "    </tr>\n",
       "    <tr>\n",
       "      <th>25%</th>\n",
       "      <td>1509.250000</td>\n",
       "      <td>0.550000</td>\n",
       "      <td>0.623478</td>\n",
       "      <td>0.000000</td>\n",
       "      <td>0.001311</td>\n",
       "      <td>0.001210</td>\n",
       "    </tr>\n",
       "    <tr>\n",
       "      <th>50%</th>\n",
       "      <td>2998.500000</td>\n",
       "      <td>0.550000</td>\n",
       "      <td>0.646909</td>\n",
       "      <td>0.001873</td>\n",
       "      <td>0.002621</td>\n",
       "      <td>0.002656</td>\n",
       "    </tr>\n",
       "    <tr>\n",
       "      <th>75%</th>\n",
       "      <td>4494.750000</td>\n",
       "      <td>0.585000</td>\n",
       "      <td>0.667866</td>\n",
       "      <td>0.007491</td>\n",
       "      <td>0.005242</td>\n",
       "      <td>0.007088</td>\n",
       "    </tr>\n",
       "    <tr>\n",
       "      <th>max</th>\n",
       "      <td>6005.000000</td>\n",
       "      <td>1.000000</td>\n",
       "      <td>1.000000</td>\n",
       "      <td>1.000000</td>\n",
       "      <td>1.000000</td>\n",
       "      <td>1.000000</td>\n",
       "    </tr>\n",
       "  </tbody>\n",
       "</table>\n",
       "</div>"
      ],
      "text/plain": [
       "            target   avg_rating  avg_rating_inbound_users    in_degree  \\\n",
       "count  5858.000000  5858.000000               5858.000000  5858.000000   \n",
       "mean   3003.711676     0.536430                  0.638773     0.009505   \n",
       "std    1721.680985     0.141352                  0.069471     0.033157   \n",
       "min       1.000000     0.000000                  0.000000     0.000000   \n",
       "25%    1509.250000     0.550000                  0.623478     0.000000   \n",
       "50%    2998.500000     0.550000                  0.646909     0.001873   \n",
       "75%    4494.750000     0.585000                  0.667866     0.007491   \n",
       "max    6005.000000     1.000000                  1.000000     1.000000   \n",
       "\n",
       "        out_degree    page_rank  \n",
       "count  5858.000000  5858.000000  \n",
       "mean      0.007953     0.008946  \n",
       "std       0.027689     0.028096  \n",
       "min       0.000000     0.000000  \n",
       "25%       0.001311     0.001210  \n",
       "50%       0.002621     0.002656  \n",
       "75%       0.005242     0.007088  \n",
       "max       1.000000     1.000000  "
      ]
     },
     "execution_count": 4,
     "metadata": {},
     "output_type": "execute_result"
    }
   ],
   "source": [
    "df.describe()"
   ]
  },
  {
   "cell_type": "markdown",
   "id": "ca8cb7a9",
   "metadata": {},
   "source": [
    "## Create KMeans model and add cluster as a new feature"
   ]
  },
  {
   "cell_type": "code",
   "execution_count": 5,
   "id": "f768c4f6",
   "metadata": {},
   "outputs": [],
   "source": [
    "kmeans = KMeans(n_clusters=5, random_state=0)\n",
    "kmeans = kmeans.fit(df.drop(columns=['target']))"
   ]
  },
  {
   "cell_type": "code",
   "execution_count": 6,
   "id": "b3c72d41",
   "metadata": {},
   "outputs": [],
   "source": [
    "df['cluster'] = kmeans.predict(df.drop(columns=['target']))"
   ]
  },
  {
   "cell_type": "markdown",
   "id": "3195d357",
   "metadata": {},
   "source": [
    "## Analyse clusters"
   ]
  },
  {
   "cell_type": "markdown",
   "id": "d35a9288",
   "metadata": {},
   "source": [
    "### Cluster sizes"
   ]
  },
  {
   "cell_type": "code",
   "execution_count": 7,
   "id": "eb03f0a9",
   "metadata": {},
   "outputs": [
    {
     "data": {
      "text/plain": [
       "cluster\n",
       "0     448\n",
       "1     291\n",
       "2    4758\n",
       "3     321\n",
       "4      40\n",
       "Name: target, dtype: int64"
      ]
     },
     "execution_count": 7,
     "metadata": {},
     "output_type": "execute_result"
    }
   ],
   "source": [
    "df.groupby('cluster')['target'].count()"
   ]
  },
  {
   "cell_type": "code",
   "execution_count": 8,
   "id": "ad257fd1",
   "metadata": {},
   "outputs": [
    {
     "data": {
      "text/plain": [
       "cluster\n",
       "0    0.076477\n",
       "1    0.049676\n",
       "2    0.812223\n",
       "3    0.054797\n",
       "4    0.006828\n",
       "Name: target, dtype: float64"
      ]
     },
     "execution_count": 8,
     "metadata": {},
     "output_type": "execute_result"
    }
   ],
   "source": [
    "df.groupby('cluster')['target'].count() / len(df)"
   ]
  },
  {
   "cell_type": "markdown",
   "id": "3ee707d1",
   "metadata": {},
   "source": [
    "The vast majority (81%) of rows have been assigned to cluster 2. Is this a problem?"
   ]
  },
  {
   "cell_type": "markdown",
   "id": "b664c6c1",
   "metadata": {},
   "source": [
    "### Feature averages per cluster"
   ]
  },
  {
   "cell_type": "markdown",
   "id": "1c263f2d",
   "metadata": {},
   "source": [
    "#### Overall averages for comparison"
   ]
  },
  {
   "cell_type": "code",
   "execution_count": 9,
   "id": "63446430",
   "metadata": {},
   "outputs": [
    {
     "data": {
      "text/html": [
       "<div>\n",
       "<style scoped>\n",
       "    .dataframe tbody tr th:only-of-type {\n",
       "        vertical-align: middle;\n",
       "    }\n",
       "\n",
       "    .dataframe tbody tr th {\n",
       "        vertical-align: top;\n",
       "    }\n",
       "\n",
       "    .dataframe thead th {\n",
       "        text-align: right;\n",
       "    }\n",
       "</style>\n",
       "<table border=\"1\" class=\"dataframe\">\n",
       "  <thead>\n",
       "    <tr style=\"text-align: right;\">\n",
       "      <th></th>\n",
       "      <th>avg_rating</th>\n",
       "      <th>avg_rating_inbound_users</th>\n",
       "      <th>in_degree</th>\n",
       "      <th>out_degree</th>\n",
       "      <th>page_rank</th>\n",
       "    </tr>\n",
       "  </thead>\n",
       "  <tbody>\n",
       "    <tr>\n",
       "      <th>0</th>\n",
       "      <td>0.53643</td>\n",
       "      <td>0.638773</td>\n",
       "      <td>0.009505</td>\n",
       "      <td>0.007953</td>\n",
       "      <td>0.008946</td>\n",
       "    </tr>\n",
       "  </tbody>\n",
       "</table>\n",
       "</div>"
      ],
      "text/plain": [
       "   avg_rating  avg_rating_inbound_users  in_degree  out_degree  page_rank\n",
       "0     0.53643                  0.638773   0.009505    0.007953   0.008946"
      ]
     },
     "execution_count": 9,
     "metadata": {},
     "output_type": "execute_result"
    }
   ],
   "source": [
    "df.drop(columns=['target', 'cluster']).groupby(lambda x: 0).mean()"
   ]
  },
  {
   "cell_type": "markdown",
   "id": "50a801e5",
   "metadata": {},
   "source": [
    "#### Averages per cluster"
   ]
  },
  {
   "cell_type": "code",
   "execution_count": 10,
   "id": "30438b50",
   "metadata": {},
   "outputs": [
    {
     "data": {
      "text/html": [
       "<div>\n",
       "<style scoped>\n",
       "    .dataframe tbody tr th:only-of-type {\n",
       "        vertical-align: middle;\n",
       "    }\n",
       "\n",
       "    .dataframe tbody tr th {\n",
       "        vertical-align: top;\n",
       "    }\n",
       "\n",
       "    .dataframe thead th {\n",
       "        text-align: right;\n",
       "    }\n",
       "</style>\n",
       "<table border=\"1\" class=\"dataframe\">\n",
       "  <thead>\n",
       "    <tr style=\"text-align: right;\">\n",
       "      <th></th>\n",
       "      <th>avg_rating</th>\n",
       "      <th>avg_rating_inbound_users</th>\n",
       "      <th>in_degree</th>\n",
       "      <th>out_degree</th>\n",
       "      <th>page_rank</th>\n",
       "    </tr>\n",
       "    <tr>\n",
       "      <th>cluster</th>\n",
       "      <th></th>\n",
       "      <th></th>\n",
       "      <th></th>\n",
       "      <th></th>\n",
       "      <th></th>\n",
       "    </tr>\n",
       "  </thead>\n",
       "  <tbody>\n",
       "    <tr>\n",
       "      <th>0</th>\n",
       "      <td>0.358987</td>\n",
       "      <td>0.567509</td>\n",
       "      <td>0.007231</td>\n",
       "      <td>0.003952</td>\n",
       "      <td>0.007760</td>\n",
       "    </tr>\n",
       "    <tr>\n",
       "      <th>1</th>\n",
       "      <td>0.053494</td>\n",
       "      <td>0.561366</td>\n",
       "      <td>0.006429</td>\n",
       "      <td>0.004274</td>\n",
       "      <td>0.004149</td>\n",
       "    </tr>\n",
       "    <tr>\n",
       "      <th>2</th>\n",
       "      <td>0.566511</td>\n",
       "      <td>0.646612</td>\n",
       "      <td>0.007830</td>\n",
       "      <td>0.006829</td>\n",
       "      <td>0.007591</td>\n",
       "    </tr>\n",
       "    <tr>\n",
       "      <th>3</th>\n",
       "      <td>0.769850</td>\n",
       "      <td>0.694604</td>\n",
       "      <td>0.003115</td>\n",
       "      <td>0.003103</td>\n",
       "      <td>0.004583</td>\n",
       "    </tr>\n",
       "    <tr>\n",
       "      <th>4</th>\n",
       "      <td>0.585869</td>\n",
       "      <td>0.619588</td>\n",
       "      <td>0.307959</td>\n",
       "      <td>0.252097</td>\n",
       "      <td>0.253270</td>\n",
       "    </tr>\n",
       "  </tbody>\n",
       "</table>\n",
       "</div>"
      ],
      "text/plain": [
       "         avg_rating  avg_rating_inbound_users  in_degree  out_degree  \\\n",
       "cluster                                                                \n",
       "0          0.358987                  0.567509   0.007231    0.003952   \n",
       "1          0.053494                  0.561366   0.006429    0.004274   \n",
       "2          0.566511                  0.646612   0.007830    0.006829   \n",
       "3          0.769850                  0.694604   0.003115    0.003103   \n",
       "4          0.585869                  0.619588   0.307959    0.252097   \n",
       "\n",
       "         page_rank  \n",
       "cluster             \n",
       "0         0.007760  \n",
       "1         0.004149  \n",
       "2         0.007591  \n",
       "3         0.004583  \n",
       "4         0.253270  "
      ]
     },
     "execution_count": 10,
     "metadata": {},
     "output_type": "execute_result"
    }
   ],
   "source": [
    "df.drop(columns=['target']).groupby('cluster').mean()"
   ]
  },
  {
   "cell_type": "markdown",
   "id": "f40c4e36",
   "metadata": {},
   "source": [
    "There are differences in the features averages per cluster compared to the overall averages\n",
    "- Cluster 0\n",
    "    - lower avg_rating\n",
    "    - Interpretation: lowest ranking nodes\n",
    "- Cluster 1\n",
    "    - similar avg_rating\n",
    "    - lower avg_rating_inbound_users\n",
    "    - lower in_degree and out_degree and also lower than cluster 2\n",
    "    - Interpretation: lower than avg ranked nodes with low connectivity\n",
    "- Cluster 2\n",
    "    - similar avg_rating and avg_rating_inbound_users\n",
    "    - lower in_degree and out_degree but bigger than cluster 1\n",
    "    - Interpretation: slightly higher than average ranked nodes with not so lower connectivity\n",
    "- Cluster 3\n",
    "    - higher avg_rating\n",
    "    - lower in_degree and out_degree\n",
    "    - Interpretation: highest ranked nodes?\n",
    "- Cluster 4\n",
    "    - only cluster with higher in_degree and out_degree and they are *much* higher\n",
    "    - much higher page_rank\n",
    "    - Interpretation: nodes that are more connected than others"
   ]
  },
  {
   "cell_type": "code",
   "execution_count": null,
   "id": "dc151068",
   "metadata": {},
   "outputs": [],
   "source": []
  },
  {
   "cell_type": "code",
   "execution_count": null,
   "id": "0cf84e51",
   "metadata": {},
   "outputs": [],
   "source": []
  },
  {
   "cell_type": "code",
   "execution_count": null,
   "id": "97607a1f",
   "metadata": {},
   "outputs": [],
   "source": []
  },
  {
   "cell_type": "code",
   "execution_count": null,
   "id": "1d78abb3",
   "metadata": {},
   "outputs": [],
   "source": []
  },
  {
   "cell_type": "code",
   "execution_count": null,
   "id": "7bfee387",
   "metadata": {},
   "outputs": [],
   "source": []
  },
  {
   "cell_type": "code",
   "execution_count": null,
   "id": "f9315498",
   "metadata": {},
   "outputs": [],
   "source": []
  },
  {
   "cell_type": "code",
   "execution_count": null,
   "id": "ed1d1050",
   "metadata": {},
   "outputs": [],
   "source": []
  },
  {
   "cell_type": "code",
   "execution_count": null,
   "id": "44995373",
   "metadata": {},
   "outputs": [],
   "source": []
  },
  {
   "cell_type": "code",
   "execution_count": null,
   "id": "b1065be1",
   "metadata": {},
   "outputs": [],
   "source": []
  },
  {
   "cell_type": "code",
   "execution_count": null,
   "id": "175f05e7",
   "metadata": {},
   "outputs": [],
   "source": []
  }
 ],
 "metadata": {
  "kernelspec": {
   "display_name": "Python 3",
   "language": "python",
   "name": "python3"
  },
  "language_info": {
   "codemirror_mode": {
    "name": "ipython",
    "version": 3
   },
   "file_extension": ".py",
   "mimetype": "text/x-python",
   "name": "python",
   "nbconvert_exporter": "python",
   "pygments_lexer": "ipython3",
   "version": "3.8.8"
  }
 },
 "nbformat": 4,
 "nbformat_minor": 5
}
