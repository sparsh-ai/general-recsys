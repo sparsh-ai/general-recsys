{
 "cells": [
  {
   "cell_type": "markdown",
   "id": "211464e1",
   "metadata": {},
   "source": [
    "# Objective\n",
    "\n",
    "Visualize the network with different libraries.\n",
    "\n",
    "# Instructions\n",
    "\n",
    "- Import the Matplotlib and NetworkX class from the pyvis library.\n",
    "- Create a new directed graph object, including only the first 100 rows of our initial user ratings dataset.\n",
    "- Visualize the new graph using the draw function of NetworkX.\n",
    "- Add color to the edges of the NetworkX draw based on the user ratings.\n",
    "- Create another visualization, but this time, use the NetworkX object of the pyvis library."
   ]
  },
  {
   "cell_type": "markdown",
   "id": "ec1f17d5",
   "metadata": {},
   "source": [
    "# Load libraries & data"
   ]
  },
  {
   "cell_type": "code",
   "execution_count": 1,
   "id": "3a42dd4c",
   "metadata": {},
   "outputs": [],
   "source": [
    "import pandas as pd\n",
    "import networkx as nx\n",
    "from datetime import datetime\n",
    "import matplotlib.pyplot as plt\n",
    "from pyvis.network import Network"
   ]
  },
  {
   "cell_type": "code",
   "execution_count": 2,
   "id": "1654cf9e",
   "metadata": {},
   "outputs": [],
   "source": [
    "df = (\n",
    "    pd.read_csv('soc-sign-bitcoinotc.csv', nrows=100, names=['source', 'target', 'rating', 'time'])\n",
    "    .assign(time=lambda df: df.time.apply(datetime.fromtimestamp))\n",
    ")"
   ]
  },
  {
   "cell_type": "code",
   "execution_count": 3,
   "id": "726c1e7c",
   "metadata": {},
   "outputs": [
    {
     "data": {
      "text/html": [
       "<div>\n",
       "<style scoped>\n",
       "    .dataframe tbody tr th:only-of-type {\n",
       "        vertical-align: middle;\n",
       "    }\n",
       "\n",
       "    .dataframe tbody tr th {\n",
       "        vertical-align: top;\n",
       "    }\n",
       "\n",
       "    .dataframe thead th {\n",
       "        text-align: right;\n",
       "    }\n",
       "</style>\n",
       "<table border=\"1\" class=\"dataframe\">\n",
       "  <thead>\n",
       "    <tr style=\"text-align: right;\">\n",
       "      <th></th>\n",
       "      <th>source</th>\n",
       "      <th>target</th>\n",
       "      <th>rating</th>\n",
       "      <th>time</th>\n",
       "    </tr>\n",
       "  </thead>\n",
       "  <tbody>\n",
       "    <tr>\n",
       "      <th>0</th>\n",
       "      <td>6</td>\n",
       "      <td>2</td>\n",
       "      <td>4</td>\n",
       "      <td>2010-11-08 19:45:11.728360</td>\n",
       "    </tr>\n",
       "    <tr>\n",
       "      <th>1</th>\n",
       "      <td>6</td>\n",
       "      <td>5</td>\n",
       "      <td>2</td>\n",
       "      <td>2010-11-08 19:45:41.533780</td>\n",
       "    </tr>\n",
       "    <tr>\n",
       "      <th>2</th>\n",
       "      <td>1</td>\n",
       "      <td>15</td>\n",
       "      <td>1</td>\n",
       "      <td>2010-11-08 20:05:40.390490</td>\n",
       "    </tr>\n",
       "    <tr>\n",
       "      <th>3</th>\n",
       "      <td>4</td>\n",
       "      <td>3</td>\n",
       "      <td>7</td>\n",
       "      <td>2010-11-08 20:41:17.369750</td>\n",
       "    </tr>\n",
       "    <tr>\n",
       "      <th>4</th>\n",
       "      <td>13</td>\n",
       "      <td>16</td>\n",
       "      <td>8</td>\n",
       "      <td>2010-11-08 23:10:54.447460</td>\n",
       "    </tr>\n",
       "  </tbody>\n",
       "</table>\n",
       "</div>"
      ],
      "text/plain": [
       "   source  target  rating                       time\n",
       "0       6       2       4 2010-11-08 19:45:11.728360\n",
       "1       6       5       2 2010-11-08 19:45:41.533780\n",
       "2       1      15       1 2010-11-08 20:05:40.390490\n",
       "3       4       3       7 2010-11-08 20:41:17.369750\n",
       "4      13      16       8 2010-11-08 23:10:54.447460"
      ]
     },
     "execution_count": 3,
     "metadata": {},
     "output_type": "execute_result"
    }
   ],
   "source": [
    "df.head()"
   ]
  },
  {
   "cell_type": "code",
   "execution_count": 4,
   "id": "b47b3721",
   "metadata": {},
   "outputs": [
    {
     "data": {
      "text/plain": [
       "(100, 4)"
      ]
     },
     "execution_count": 4,
     "metadata": {},
     "output_type": "execute_result"
    }
   ],
   "source": [
    "df.shape"
   ]
  },
  {
   "cell_type": "markdown",
   "id": "77a436c2",
   "metadata": {},
   "source": [
    "# Create NetworkX graph"
   ]
  },
  {
   "cell_type": "code",
   "execution_count": 5,
   "id": "9e18319b",
   "metadata": {},
   "outputs": [],
   "source": [
    "g = nx.from_pandas_edgelist(df, source='source', target='target', edge_attr='rating', create_using=nx.DiGraph)"
   ]
  },
  {
   "cell_type": "markdown",
   "id": "f16e896d",
   "metadata": {},
   "source": [
    "# Visualize graph with native function"
   ]
  },
  {
   "cell_type": "markdown",
   "id": "b3e45c4e",
   "metadata": {},
   "source": [
    "## Basic visualization from NetworkX"
   ]
  },
  {
   "cell_type": "code",
   "execution_count": 6,
   "id": "55b2fb77",
   "metadata": {},
   "outputs": [
    {
     "data": {
      "image/png": "[encoded data removed]",
      "text/plain": [
       "<Figure size 432x288 with 1 Axes>"
      ]
     },
     "metadata": {},
     "output_type": "display_data"
    }
   ],
   "source": [
    "nx.draw(g)"
   ]
  },
  {
   "cell_type": "markdown",
   "id": "77df8f53",
   "metadata": {},
   "source": [
    "## Color the edges according to the edge values (and other shenanigans)"
   ]
  },
  {
   "cell_type": "code",
   "execution_count": 7,
   "id": "67e1e7e2",
   "metadata": {},
   "outputs": [
    {
     "data": {
      "image/png": "[encoded data removed]",
      "text/plain": [
       "<Figure size 432x288 with 1 Axes>"
      ]
     },
     "metadata": {},
     "output_type": "display_data"
    }
   ],
   "source": [
    "nx.draw(g, edge_color=df.rating, alpha=0.8, arrowsize=15, width=.9)"
   ]
  },
  {
   "cell_type": "markdown",
   "id": "48847e7f",
   "metadata": {},
   "source": [
    "# Draw the graph using `pyvis`"
   ]
  },
  {
   "cell_type": "code",
   "execution_count": 8,
   "id": "5c38343e",
   "metadata": {},
   "outputs": [],
   "source": [
    "nt = Network('500px', '500px', notebook=True)\n",
    "nt.from_nx(g)"
   ]
  },
  {
   "cell_type": "code",
   "execution_count": 9,
   "id": "da257ac8",
   "metadata": {},
   "outputs": [
    {
     "data": {
      "text/html": [
       "\n",
       "        <iframe\n",
       "            width=\"500px\"\n",
       "            height=\"500px\"\n",
       "            src=\"nx.html\"\n",
       "            frameborder=\"0\"\n",
       "            allowfullscreen\n",
       "        ></iframe>\n",
       "        "
      ],
      "text/plain": [
       "<IPython.lib.display.IFrame at 0x7ff2568245e0>"
      ]
     },
     "execution_count": 9,
     "metadata": {},
     "output_type": "execute_result"
    }
   ],
   "source": [
    "nt.show('nx.html')"
   ]
  },
  {
   "cell_type": "code",
   "execution_count": null,
   "id": "1e878a18",
   "metadata": {},
   "outputs": [],
   "source": []
  },
  {
   "cell_type": "code",
   "execution_count": null,
   "id": "ee4e1908",
   "metadata": {},
   "outputs": [],
   "source": []
  },
  {
   "cell_type": "code",
   "execution_count": null,
   "id": "4375f43d",
   "metadata": {},
   "outputs": [],
   "source": []
  },
  {
   "cell_type": "code",
   "execution_count": null,
   "id": "8493b719",
   "metadata": {},
   "outputs": [],
   "source": []
  },
  {
   "cell_type": "code",
   "execution_count": null,
   "id": "a0626835",
   "metadata": {},
   "outputs": [],
   "source": []
  }
 ],
 "metadata": {
  "kernelspec": {
   "display_name": "Python 3 (ipykernel)",
   "language": "python",
   "name": "python3"
  },
  "language_info": {
   "codemirror_mode": {
    "name": "ipython",
    "version": 3
   },
   "file_extension": ".py",
   "mimetype": "text/x-python",
   "name": "python",
   "nbconvert_exporter": "python",
   "pygments_lexer": "ipython3",
   "version": "3.9.7"
  }
 },
 "nbformat": 4,
 "nbformat_minor": 5
}
