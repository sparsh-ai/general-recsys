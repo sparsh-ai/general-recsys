{
 "cells": [
  {
   "cell_type": "markdown",
   "id": "8a8fb379",
   "metadata": {},
   "source": [
    "# Objective\n",
    "\n",
    "The hypothesis we aim to test is that Friday is the best day to get maximum tweet engagement. In this milestone, our objective is to calculate the p-values between Friday and other-day tweet engagement rates and interpret the significance of the relationship.\n",
    "\n",
    "# Instructions\n",
    "\n",
    "- Write a function that takes two arrays as input arguments and returns a p-value of the permutation test.\n",
    "    - To calculate the p-value of the permutation test, apply these in a function:\n",
    "    - Calculate the means of the arrays and assign the absolute difference value of them to the extreme_mean_diff variable.\n",
    "    - Stack two arrays column-wise into a single array.\n",
    "    - Shuffle the merged array and split it into two different arrays. Make the sample sizes the same as the initial arrays. - Then calculate the means of these new arrays and their absolute difference value.\n",
    "    - Repeat the process in the previous step 30,000 times and count how many times the new calculated absolute difference value is greater than our initial extreme_mean_diff value.\n",
    "    - Return the “total count” / 30,000 as a p-value.\n",
    "- Assign 0 to a NumPy random seed value.\n",
    "- Create two new DataFrames: One contains only one column with engagement rates for Friday, and the other contains 6 columns with engagement rates for other days. Use the DataFrame generated in the previous milestone for this task.\n",
    "- Calculate the p-values between Friday and each other day using the permutation test function we created and store the p-values to a variable."
   ]
  },
  {
   "cell_type": "code",
   "execution_count": 1,
   "id": "8fe9338c",
   "metadata": {},
   "outputs": [],
   "source": [
    "import json\n",
    "import numpy as np\n",
    "import pandas as pd\n",
    "import seaborn as sb\n",
    "\n",
    "np.random.seed(0)"
   ]
  },
  {
   "cell_type": "markdown",
   "id": "d454b520",
   "metadata": {},
   "source": [
    "### Create permutation test functions"
   ]
  },
  {
   "cell_type": "code",
   "execution_count": 2,
   "id": "46b836fc",
   "metadata": {},
   "outputs": [],
   "source": [
    "def abs_diff_mean(arr1, arr2):\n",
    "    return abs(np.mean(arr1) - np.mean(arr2))"
   ]
  },
  {
   "cell_type": "code",
   "execution_count": 3,
   "id": "3afb4a1c",
   "metadata": {},
   "outputs": [],
   "source": [
    "def permutation_test(arr1, arr2, n_permutations=30000):\n",
    "    extreme_mean_difference = abs_diff_mean(arr1, arr2)\n",
    "\n",
    "    all_data = np.concatenate((arr1, arr2))\n",
    "\n",
    "    n_extreme_values = 0\n",
    "    for _ in range(n_permutations):\n",
    "        shuffled = np.random.permutation(all_data)\n",
    "        tmp_arr1 = shuffled[:len(arr1)]\n",
    "        tmp_arr2 = shuffled[len(arr1):]\n",
    "        if abs_diff_mean(tmp_arr1, tmp_arr2) >= extreme_mean_difference:\n",
    "            n_extreme_values += 1\n",
    "\n",
    "    p_value = n_extreme_values / n_permutations\n",
    "    return p_value"
   ]
  },
  {
   "cell_type": "markdown",
   "id": "883f765f",
   "metadata": {},
   "source": [
    "### Load data"
   ]
  },
  {
   "cell_type": "code",
   "execution_count": 4,
   "id": "9c6e2bcc",
   "metadata": {},
   "outputs": [
    {
     "data": {
      "text/html": [
       "<div>\n",
       "<style scoped>\n",
       "    .dataframe tbody tr th:only-of-type {\n",
       "        vertical-align: middle;\n",
       "    }\n",
       "\n",
       "    .dataframe tbody tr th {\n",
       "        vertical-align: top;\n",
       "    }\n",
       "\n",
       "    .dataframe thead th {\n",
       "        text-align: right;\n",
       "    }\n",
       "</style>\n",
       "<table border=\"1\" class=\"dataframe\">\n",
       "  <thead>\n",
       "    <tr style=\"text-align: right;\">\n",
       "      <th></th>\n",
       "      <th>week_number</th>\n",
       "      <th>Friday</th>\n",
       "      <th>Monday</th>\n",
       "      <th>Saturday</th>\n",
       "      <th>Sunday</th>\n",
       "      <th>Thursday</th>\n",
       "      <th>Tuesday</th>\n",
       "      <th>Wednesday</th>\n",
       "    </tr>\n",
       "  </thead>\n",
       "  <tbody>\n",
       "    <tr>\n",
       "      <th>0</th>\n",
       "      <td>9</td>\n",
       "      <td>0.259494</td>\n",
       "      <td>0.216942</td>\n",
       "      <td>0.144737</td>\n",
       "      <td>0.062857</td>\n",
       "      <td>0.047619</td>\n",
       "      <td>0.071240</td>\n",
       "      <td>0.151786</td>\n",
       "    </tr>\n",
       "    <tr>\n",
       "      <th>1</th>\n",
       "      <td>10</td>\n",
       "      <td>0.230909</td>\n",
       "      <td>0.153584</td>\n",
       "      <td>0.143251</td>\n",
       "      <td>0.195335</td>\n",
       "      <td>0.069182</td>\n",
       "      <td>0.203361</td>\n",
       "      <td>0.221649</td>\n",
       "    </tr>\n",
       "    <tr>\n",
       "      <th>2</th>\n",
       "      <td>11</td>\n",
       "      <td>0.060475</td>\n",
       "      <td>0.143275</td>\n",
       "      <td>0.041667</td>\n",
       "      <td>0.195777</td>\n",
       "      <td>0.126437</td>\n",
       "      <td>0.335196</td>\n",
       "      <td>0.179825</td>\n",
       "    </tr>\n",
       "    <tr>\n",
       "      <th>3</th>\n",
       "      <td>12</td>\n",
       "      <td>0.120275</td>\n",
       "      <td>0.040000</td>\n",
       "      <td>0.042857</td>\n",
       "      <td>0.126095</td>\n",
       "      <td>0.184211</td>\n",
       "      <td>0.325000</td>\n",
       "      <td>0.273810</td>\n",
       "    </tr>\n",
       "    <tr>\n",
       "      <th>4</th>\n",
       "      <td>13</td>\n",
       "      <td>0.200573</td>\n",
       "      <td>0.119403</td>\n",
       "      <td>0.181159</td>\n",
       "      <td>0.035714</td>\n",
       "      <td>0.095628</td>\n",
       "      <td>0.252404</td>\n",
       "      <td>0.115385</td>\n",
       "    </tr>\n",
       "  </tbody>\n",
       "</table>\n",
       "</div>"
      ],
      "text/plain": [
       "   week_number    Friday    Monday  Saturday    Sunday  Thursday   Tuesday  \\\n",
       "0            9  0.259494  0.216942  0.144737  0.062857  0.047619  0.071240   \n",
       "1           10  0.230909  0.153584  0.143251  0.195335  0.069182  0.203361   \n",
       "2           11  0.060475  0.143275  0.041667  0.195777  0.126437  0.335196   \n",
       "3           12  0.120275  0.040000  0.042857  0.126095  0.184211  0.325000   \n",
       "4           13  0.200573  0.119403  0.181159  0.035714  0.095628  0.252404   \n",
       "\n",
       "   Wednesday  \n",
       "0   0.151786  \n",
       "1   0.221649  \n",
       "2   0.179825  \n",
       "3   0.273810  \n",
       "4   0.115385  "
      ]
     },
     "execution_count": 4,
     "metadata": {},
     "output_type": "execute_result"
    }
   ],
   "source": [
    "df = pd.read_csv('./engagement_per_week_per_day.csv')\n",
    "df.head()"
   ]
  },
  {
   "cell_type": "markdown",
   "id": "9f920298",
   "metadata": {},
   "source": [
    "#### Engagement rate"
   ]
  },
  {
   "cell_type": "code",
   "execution_count": 5,
   "id": "0cfb772c",
   "metadata": {},
   "outputs": [
    {
     "data": {
      "text/plain": [
       "<AxesSubplot:>"
      ]
     },
     "execution_count": 5,
     "metadata": {},
     "output_type": "execute_result"
    },
    {
     "data": {
      "image/png": "[encoded data removed]",
      "text/plain": [
       "<Figure size 432x288 with 1 Axes>"
      ]
     },
     "metadata": {
      "needs_background": "light"
     },
     "output_type": "display_data"
    }
   ],
   "source": [
    "df.drop(columns='week_number').groupby(lambda x: 'engagement_rate').mean().T.plot(kind='bar')"
   ]
  },
  {
   "cell_type": "markdown",
   "id": "b6bfdd23",
   "metadata": {},
   "source": [
    "### Calculate p-values"
   ]
  },
  {
   "cell_type": "code",
   "execution_count": 6,
   "id": "e0adb528",
   "metadata": {},
   "outputs": [],
   "source": [
    "friday = df['Friday']\n",
    "other_days = df.drop(columns=['week_number', 'Friday'])"
   ]
  },
  {
   "cell_type": "code",
   "execution_count": 7,
   "id": "038c2417",
   "metadata": {},
   "outputs": [
    {
     "data": {
      "text/html": [
       "<div>\n",
       "<style scoped>\n",
       "    .dataframe tbody tr th:only-of-type {\n",
       "        vertical-align: middle;\n",
       "    }\n",
       "\n",
       "    .dataframe tbody tr th {\n",
       "        vertical-align: top;\n",
       "    }\n",
       "\n",
       "    .dataframe thead th {\n",
       "        text-align: right;\n",
       "    }\n",
       "</style>\n",
       "<table border=\"1\" class=\"dataframe\">\n",
       "  <thead>\n",
       "    <tr style=\"text-align: right;\">\n",
       "      <th></th>\n",
       "      <th>Monday</th>\n",
       "      <th>Saturday</th>\n",
       "      <th>Sunday</th>\n",
       "      <th>Thursday</th>\n",
       "      <th>Tuesday</th>\n",
       "      <th>Wednesday</th>\n",
       "    </tr>\n",
       "  </thead>\n",
       "  <tbody>\n",
       "    <tr>\n",
       "      <th>0</th>\n",
       "      <td>0.216942</td>\n",
       "      <td>0.144737</td>\n",
       "      <td>0.062857</td>\n",
       "      <td>0.047619</td>\n",
       "      <td>0.071240</td>\n",
       "      <td>0.151786</td>\n",
       "    </tr>\n",
       "    <tr>\n",
       "      <th>1</th>\n",
       "      <td>0.153584</td>\n",
       "      <td>0.143251</td>\n",
       "      <td>0.195335</td>\n",
       "      <td>0.069182</td>\n",
       "      <td>0.203361</td>\n",
       "      <td>0.221649</td>\n",
       "    </tr>\n",
       "    <tr>\n",
       "      <th>2</th>\n",
       "      <td>0.143275</td>\n",
       "      <td>0.041667</td>\n",
       "      <td>0.195777</td>\n",
       "      <td>0.126437</td>\n",
       "      <td>0.335196</td>\n",
       "      <td>0.179825</td>\n",
       "    </tr>\n",
       "    <tr>\n",
       "      <th>3</th>\n",
       "      <td>0.040000</td>\n",
       "      <td>0.042857</td>\n",
       "      <td>0.126095</td>\n",
       "      <td>0.184211</td>\n",
       "      <td>0.325000</td>\n",
       "      <td>0.273810</td>\n",
       "    </tr>\n",
       "    <tr>\n",
       "      <th>4</th>\n",
       "      <td>0.119403</td>\n",
       "      <td>0.181159</td>\n",
       "      <td>0.035714</td>\n",
       "      <td>0.095628</td>\n",
       "      <td>0.252404</td>\n",
       "      <td>0.115385</td>\n",
       "    </tr>\n",
       "  </tbody>\n",
       "</table>\n",
       "</div>"
      ],
      "text/plain": [
       "     Monday  Saturday    Sunday  Thursday   Tuesday  Wednesday\n",
       "0  0.216942  0.144737  0.062857  0.047619  0.071240   0.151786\n",
       "1  0.153584  0.143251  0.195335  0.069182  0.203361   0.221649\n",
       "2  0.143275  0.041667  0.195777  0.126437  0.335196   0.179825\n",
       "3  0.040000  0.042857  0.126095  0.184211  0.325000   0.273810\n",
       "4  0.119403  0.181159  0.035714  0.095628  0.252404   0.115385"
      ]
     },
     "execution_count": 7,
     "metadata": {},
     "output_type": "execute_result"
    }
   ],
   "source": [
    "other_days.head()"
   ]
  },
  {
   "cell_type": "code",
   "execution_count": 8,
   "id": "4f7549dc",
   "metadata": {},
   "outputs": [],
   "source": [
    "p_values = {}\n",
    "for c in other_days.columns:\n",
    "    p_values[c] = permutation_test(friday, other_days[c])"
   ]
  },
  {
   "cell_type": "code",
   "execution_count": 9,
   "id": "97bb78ec",
   "metadata": {},
   "outputs": [
    {
     "data": {
      "text/plain": [
       "{'Monday': 0.5096,\n",
       " 'Saturday': 0.0129,\n",
       " 'Sunday': 0.0026666666666666666,\n",
       " 'Thursday': 0.009366666666666667,\n",
       " 'Tuesday': 0.3554333333333333,\n",
       " 'Wednesday': 0.7225}"
      ]
     },
     "execution_count": 9,
     "metadata": {},
     "output_type": "execute_result"
    }
   ],
   "source": [
    "p_values"
   ]
  },
  {
   "cell_type": "code",
   "execution_count": 10,
   "id": "824956ac",
   "metadata": {},
   "outputs": [
    {
     "data": {
      "text/plain": [
       "<AxesSubplot:>"
      ]
     },
     "execution_count": 10,
     "metadata": {},
     "output_type": "execute_result"
    },
    {
     "data": {
      "image/png": "[encoded data removed]",
      "text/plain": [
       "<Figure size 432x288 with 1 Axes>"
      ]
     },
     "metadata": {
      "needs_background": "light"
     },
     "output_type": "display_data"
    }
   ],
   "source": [
    "sb.barplot(x=list(p_values.keys()), y=list(p_values.values()))"
   ]
  },
  {
   "cell_type": "code",
   "execution_count": 11,
   "id": "c81ab249",
   "metadata": {},
   "outputs": [],
   "source": [
    "with open('p_values.json', 'w') as f:\n",
    "    json.dump(p_values, f)"
   ]
  },
  {
   "cell_type": "code",
   "execution_count": null,
   "id": "e9ef8a59",
   "metadata": {},
   "outputs": [],
   "source": []
  },
  {
   "cell_type": "code",
   "execution_count": null,
   "id": "d160e90b",
   "metadata": {},
   "outputs": [],
   "source": []
  },
  {
   "cell_type": "code",
   "execution_count": null,
   "id": "0a4a575a",
   "metadata": {},
   "outputs": [],
   "source": []
  },
  {
   "cell_type": "code",
   "execution_count": null,
   "id": "3d6d5a5f",
   "metadata": {},
   "outputs": [],
   "source": []
  },
  {
   "cell_type": "code",
   "execution_count": null,
   "id": "9e949b76",
   "metadata": {},
   "outputs": [],
   "source": []
  },
  {
   "cell_type": "code",
   "execution_count": null,
   "id": "fd945d2c",
   "metadata": {},
   "outputs": [],
   "source": []
  },
  {
   "cell_type": "code",
   "execution_count": null,
   "id": "3adcebb2",
   "metadata": {},
   "outputs": [],
   "source": []
  },
  {
   "cell_type": "code",
   "execution_count": null,
   "id": "5c9c4edc",
   "metadata": {},
   "outputs": [],
   "source": []
  },
  {
   "cell_type": "code",
   "execution_count": null,
   "id": "befcdd44",
   "metadata": {},
   "outputs": [],
   "source": []
  },
  {
   "cell_type": "code",
   "execution_count": null,
   "id": "91cadaea",
   "metadata": {},
   "outputs": [],
   "source": []
  },
  {
   "cell_type": "code",
   "execution_count": null,
   "id": "17831b23",
   "metadata": {},
   "outputs": [],
   "source": []
  },
  {
   "cell_type": "code",
   "execution_count": null,
   "id": "37cb9980",
   "metadata": {},
   "outputs": [],
   "source": []
  },
  {
   "cell_type": "code",
   "execution_count": null,
   "id": "cadff4f4",
   "metadata": {},
   "outputs": [],
   "source": []
  }
 ],
 "metadata": {
  "kernelspec": {
   "display_name": "Python 3",
   "language": "python",
   "name": "python3"
  },
  "language_info": {
   "codemirror_mode": {
    "name": "ipython",
    "version": 3
   },
   "file_extension": ".py",
   "mimetype": "text/x-python",
   "name": "python",
   "nbconvert_exporter": "python",
   "pygments_lexer": "ipython3",
   "version": "3.8.8"
  }
 },
 "nbformat": 4,
 "nbformat_minor": 5
}
