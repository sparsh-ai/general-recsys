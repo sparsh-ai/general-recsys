{
 "cells": [
  {
   "cell_type": "markdown",
   "id": "2de8b7ac",
   "metadata": {},
   "source": [
    "# Objective\n",
    "\n",
    "First, interpret the outputs of the previous milestone and make an inference about the hypothesis. Then apply Bonferroni correction to the results and interpret them again regarding the adjusted results.\n",
    "\n",
    "# Instructions\n",
    "- Print out the p-values for each day along with the averages of the engagement rates.\n",
    "- Let’s assume the significance level is 0.05. Compare the average tweet engagement rate of Friday to that of other days, considering this p-value significance level.\n",
    "- Find out how we can apply Bonferroni correction in this case and apply it to obtain an adjusted significance level.\n",
    "- Interpret the p-values, but this time, use the adjusted significance level."
   ]
  },
  {
   "cell_type": "code",
   "execution_count": 1,
   "id": "34605df3",
   "metadata": {},
   "outputs": [],
   "source": [
    "import json\n",
    "import pandas as pd"
   ]
  },
  {
   "cell_type": "markdown",
   "id": "61dd98ef",
   "metadata": {},
   "source": [
    "### Load data"
   ]
  },
  {
   "cell_type": "code",
   "execution_count": 2,
   "id": "2484c309",
   "metadata": {},
   "outputs": [],
   "source": [
    "df = pd.read_csv('./engagement_per_week_per_day.csv')"
   ]
  },
  {
   "cell_type": "code",
   "execution_count": 3,
   "id": "59e5294a",
   "metadata": {},
   "outputs": [],
   "source": [
    "with open('./p_values.json', 'r') as f:\n",
    "    p_values = json.load(f)"
   ]
  },
  {
   "cell_type": "code",
   "execution_count": 4,
   "id": "76bb2357",
   "metadata": {},
   "outputs": [
    {
     "data": {
      "text/html": [
       "<div>\n",
       "<style scoped>\n",
       "    .dataframe tbody tr th:only-of-type {\n",
       "        vertical-align: middle;\n",
       "    }\n",
       "\n",
       "    .dataframe tbody tr th {\n",
       "        vertical-align: top;\n",
       "    }\n",
       "\n",
       "    .dataframe thead th {\n",
       "        text-align: right;\n",
       "    }\n",
       "</style>\n",
       "<table border=\"1\" class=\"dataframe\">\n",
       "  <thead>\n",
       "    <tr style=\"text-align: right;\">\n",
       "      <th></th>\n",
       "      <th>Monday</th>\n",
       "      <th>Tuesday</th>\n",
       "      <th>Wednesday</th>\n",
       "      <th>Thursday</th>\n",
       "      <th>Friday</th>\n",
       "      <th>Saturday</th>\n",
       "      <th>Sunday</th>\n",
       "    </tr>\n",
       "  </thead>\n",
       "  <tbody>\n",
       "    <tr>\n",
       "      <th>engagement_rate</th>\n",
       "      <td>0.161692</td>\n",
       "      <td>0.207954</td>\n",
       "      <td>0.16821</td>\n",
       "      <td>0.112925</td>\n",
       "      <td>0.177519</td>\n",
       "      <td>0.1152</td>\n",
       "      <td>0.097094</td>\n",
       "    </tr>\n",
       "    <tr>\n",
       "      <th>p_value</th>\n",
       "      <td>0.509600</td>\n",
       "      <td>0.355433</td>\n",
       "      <td>0.72250</td>\n",
       "      <td>0.009367</td>\n",
       "      <td>NaN</td>\n",
       "      <td>0.0129</td>\n",
       "      <td>0.002667</td>\n",
       "    </tr>\n",
       "  </tbody>\n",
       "</table>\n",
       "</div>"
      ],
      "text/plain": [
       "                   Monday   Tuesday  Wednesday  Thursday    Friday  Saturday  \\\n",
       "engagement_rate  0.161692  0.207954    0.16821  0.112925  0.177519    0.1152   \n",
       "p_value          0.509600  0.355433    0.72250  0.009367       NaN    0.0129   \n",
       "\n",
       "                   Sunday  \n",
       "engagement_rate  0.097094  \n",
       "p_value          0.002667  "
      ]
     },
     "execution_count": 4,
     "metadata": {},
     "output_type": "execute_result"
    }
   ],
   "source": [
    "p_values_and_engagement_rates = (\n",
    "    pd.concat(\n",
    "        [df.drop(columns=['week_number']).groupby(lambda x: 'engagement_rate').mean(),\n",
    "         pd.DataFrame(p_values, index=['p_value'])])\n",
    "    [['Monday', 'Tuesday', 'Wednesday', 'Thursday', 'Friday', 'Saturday', 'Sunday']]\n",
    ")\n",
    "\n",
    "p_values_and_engagement_rates"
   ]
  },
  {
   "cell_type": "code",
   "execution_count": 5,
   "id": "2643af0c",
   "metadata": {},
   "outputs": [],
   "source": [
    "other_days = [c for c in p_values_and_engagement_rates.columns if c != 'Friday']"
   ]
  },
  {
   "cell_type": "markdown",
   "id": "ce59fe68",
   "metadata": {},
   "source": [
    "### Interpret the results"
   ]
  },
  {
   "cell_type": "markdown",
   "id": "119f83c1",
   "metadata": {},
   "source": [
    "#### Using significance level of 0.05 without any correction"
   ]
  },
  {
   "cell_type": "code",
   "execution_count": 6,
   "id": "085986f6",
   "metadata": {},
   "outputs": [
    {
     "name": "stdout",
     "output_type": "stream",
     "text": [
      "Comparing the engagement rates of Friday with the other days...\n",
      "\n",
      "'Friday':\n",
      "  - Engagement rate: 0.18\n",
      "\n",
      "\n",
      "Monday:\n",
      "  - Engagement rate: 0.16\n",
      "  - p-value:         0.510\n",
      "  - The difference is NOT significant\n",
      "\n",
      "Tuesday:\n",
      "  - Engagement rate: 0.21\n",
      "  - p-value:         0.355\n",
      "  - The difference is NOT significant\n",
      "\n",
      "Wednesday:\n",
      "  - Engagement rate: 0.17\n",
      "  - p-value:         0.723\n",
      "  - The difference is NOT significant\n",
      "\n",
      "Thursday:\n",
      "  - Engagement rate: 0.11\n",
      "  - p-value:         0.009\n",
      "  - *The difference is significant*\n",
      "\n",
      "Saturday:\n",
      "  - Engagement rate: 0.12\n",
      "  - p-value:         0.013\n",
      "  - *The difference is significant*\n",
      "\n",
      "Sunday:\n",
      "  - Engagement rate: 0.10\n",
      "  - p-value:         0.003\n",
      "  - *The difference is significant*\n"
     ]
    }
   ],
   "source": [
    "SIGNIFICANCE_LEVEL = 0.05\n",
    "print('Comparing the engagement rates of Friday with the other days...')\n",
    "print(f'''\n",
    "'Friday':\n",
    "  - Engagement rate: {p_values_and_engagement_rates['Friday']['engagement_rate']:.2f}\n",
    "''')\n",
    "\n",
    "for d in other_days:\n",
    "    eng_rate = p_values_and_engagement_rates[d]['engagement_rate']\n",
    "    p_value = p_values_and_engagement_rates[d]['p_value']\n",
    "    significant = p_value <= SIGNIFICANCE_LEVEL\n",
    "    emphasis = '*' if significant else ''\n",
    "    print(f'''\n",
    "{d}:\n",
    "  - Engagement rate: {eng_rate:.2f}\n",
    "  - p-value:         {p_value:.3f}\n",
    "  - {emphasis}The difference is {'NOT ' if not significant else ''}significant{emphasis}''')"
   ]
  },
  {
   "cell_type": "markdown",
   "id": "7b98abaf",
   "metadata": {},
   "source": [
    "#### Using Bonferroni correction for multiple testing"
   ]
  },
  {
   "cell_type": "code",
   "execution_count": 7,
   "id": "e36c0b19",
   "metadata": {},
   "outputs": [
    {
     "name": "stdout",
     "output_type": "stream",
     "text": [
      "After applying the Bonferroni correction, the new significance level is 0.008\n",
      "\n"
     ]
    }
   ],
   "source": [
    "corrected_significance_level = SIGNIFICANCE_LEVEL / len(other_days)\n",
    "print(f'After applying the Bonferroni correction, the new significance level is {corrected_significance_level:.3f}')\n",
    "print()"
   ]
  },
  {
   "cell_type": "code",
   "execution_count": 8,
   "id": "1ce8ba26",
   "metadata": {},
   "outputs": [
    {
     "name": "stdout",
     "output_type": "stream",
     "text": [
      "Comparing the engagement rates of Friday with the other days...\n",
      "\n",
      "'Friday':\n",
      "  - Engagement rate: 0.18\n",
      "\n",
      "\n",
      "Monday:\n",
      "  - Engagement rate: 0.16\n",
      "  - p-value:         0.510\n",
      "  - The difference is NOT significant\n",
      "\n",
      "Tuesday:\n",
      "  - Engagement rate: 0.21\n",
      "  - p-value:         0.355\n",
      "  - The difference is NOT significant\n",
      "\n",
      "Wednesday:\n",
      "  - Engagement rate: 0.17\n",
      "  - p-value:         0.723\n",
      "  - The difference is NOT significant\n",
      "\n",
      "Thursday:\n",
      "  - Engagement rate: 0.11\n",
      "  - p-value:         0.009\n",
      "  - The difference is NOT significant\n",
      "\n",
      "Saturday:\n",
      "  - Engagement rate: 0.12\n",
      "  - p-value:         0.013\n",
      "  - The difference is NOT significant\n",
      "\n",
      "Sunday:\n",
      "  - Engagement rate: 0.10\n",
      "  - p-value:         0.003\n",
      "  - *The difference is significant*\n"
     ]
    }
   ],
   "source": [
    "print('Comparing the engagement rates of Friday with the other days...')\n",
    "print(f'''\n",
    "'Friday':\n",
    "  - Engagement rate: {p_values_and_engagement_rates['Friday']['engagement_rate']:.2f}\n",
    "''')\n",
    "\n",
    "for d in other_days:\n",
    "    eng_rate = p_values_and_engagement_rates[d]['engagement_rate']\n",
    "    p_value = p_values_and_engagement_rates[d]['p_value']\n",
    "    significant = p_value <= corrected_significance_level\n",
    "    emphasis = '*' if significant else ''\n",
    "    print(f'''\n",
    "{d}:\n",
    "  - Engagement rate: {eng_rate:.2f}\n",
    "  - p-value:         {p_value:.3f}\n",
    "  - {emphasis}The difference is {'NOT ' if not significant else ''}significant{emphasis}''')"
   ]
  },
  {
   "cell_type": "markdown",
   "id": "ea85f1c4",
   "metadata": {},
   "source": [
    "Now, using the corrected significance level, we can only say that Friday is better than Sunday. "
   ]
  },
  {
   "cell_type": "code",
   "execution_count": null,
   "id": "82e90719",
   "metadata": {},
   "outputs": [],
   "source": []
  },
  {
   "cell_type": "code",
   "execution_count": null,
   "id": "4c9331cb",
   "metadata": {},
   "outputs": [],
   "source": []
  },
  {
   "cell_type": "code",
   "execution_count": null,
   "id": "c9d380eb",
   "metadata": {},
   "outputs": [],
   "source": []
  },
  {
   "cell_type": "code",
   "execution_count": null,
   "id": "ad94d925",
   "metadata": {},
   "outputs": [],
   "source": []
  },
  {
   "cell_type": "code",
   "execution_count": null,
   "id": "aba67bda",
   "metadata": {},
   "outputs": [],
   "source": []
  },
  {
   "cell_type": "code",
   "execution_count": null,
   "id": "203367d1",
   "metadata": {},
   "outputs": [],
   "source": []
  },
  {
   "cell_type": "code",
   "execution_count": null,
   "id": "1530c42d",
   "metadata": {},
   "outputs": [],
   "source": []
  },
  {
   "cell_type": "code",
   "execution_count": null,
   "id": "4683876c",
   "metadata": {},
   "outputs": [],
   "source": []
  },
  {
   "cell_type": "code",
   "execution_count": null,
   "id": "857361ae",
   "metadata": {},
   "outputs": [],
   "source": []
  },
  {
   "cell_type": "code",
   "execution_count": null,
   "id": "ffb1c0d4",
   "metadata": {},
   "outputs": [],
   "source": []
  },
  {
   "cell_type": "code",
   "execution_count": null,
   "id": "dbeff18c",
   "metadata": {},
   "outputs": [],
   "source": []
  },
  {
   "cell_type": "code",
   "execution_count": null,
   "id": "0cdb4b5c",
   "metadata": {},
   "outputs": [],
   "source": []
  },
  {
   "cell_type": "code",
   "execution_count": null,
   "id": "02246324",
   "metadata": {},
   "outputs": [],
   "source": []
  },
  {
   "cell_type": "code",
   "execution_count": null,
   "id": "fab595d9",
   "metadata": {},
   "outputs": [],
   "source": []
  },
  {
   "cell_type": "code",
   "execution_count": null,
   "id": "78ca767d",
   "metadata": {},
   "outputs": [],
   "source": []
  },
  {
   "cell_type": "code",
   "execution_count": null,
   "id": "5b7bc4b0",
   "metadata": {},
   "outputs": [],
   "source": []
  },
  {
   "cell_type": "code",
   "execution_count": null,
   "id": "555b50cf",
   "metadata": {},
   "outputs": [],
   "source": []
  },
  {
   "cell_type": "code",
   "execution_count": null,
   "id": "9cc931d8",
   "metadata": {},
   "outputs": [],
   "source": []
  },
  {
   "cell_type": "code",
   "execution_count": null,
   "id": "67470855",
   "metadata": {},
   "outputs": [],
   "source": []
  },
  {
   "cell_type": "code",
   "execution_count": null,
   "id": "42ee467f",
   "metadata": {},
   "outputs": [],
   "source": []
  }
 ],
 "metadata": {
  "kernelspec": {
   "display_name": "Python 3",
   "language": "python",
   "name": "python3"
  },
  "language_info": {
   "codemirror_mode": {
    "name": "ipython",
    "version": 3
   },
   "file_extension": ".py",
   "mimetype": "text/x-python",
   "name": "python",
   "nbconvert_exporter": "python",
   "pygments_lexer": "ipython3",
   "version": "3.8.8"
  }
 },
 "nbformat": 4,
 "nbformat_minor": 5
}
